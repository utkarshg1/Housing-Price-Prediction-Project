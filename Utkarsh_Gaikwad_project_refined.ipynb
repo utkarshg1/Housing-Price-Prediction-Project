{
 "cells": [
  {
   "cell_type": "markdown",
   "id": "b2b0755c",
   "metadata": {},
   "source": [
    "# Project of Predicting Sales Price by Utkarsh Gaikwad  "
   ]
  },
  {
   "cell_type": "markdown",
   "id": "3958ba43",
   "metadata": {},
   "source": [
    "# Step 1 : Read Data"
   ]
  },
  {
   "cell_type": "code",
   "execution_count": 1,
   "id": "b2b836e2",
   "metadata": {},
   "outputs": [],
   "source": [
    "import pandas as pd\n",
    "from warnings import filterwarnings\n",
    "filterwarnings(\"ignore\")\n",
    "\n",
    "trd = pd.read_csv(\"D:/Etlhive class data/Project 100722/Input/training_set.csv\")\n",
    "tsd = pd.read_csv(\"D:/Etlhive class data/Project 100722/Input/testing_set.csv\")"
   ]
  },
  {
   "cell_type": "code",
   "execution_count": 2,
   "id": "a7c3031a",
   "metadata": {},
   "outputs": [
    {
     "data": {
      "text/html": [
       "<div>\n",
       "<style scoped>\n",
       "    .dataframe tbody tr th:only-of-type {\n",
       "        vertical-align: middle;\n",
       "    }\n",
       "\n",
       "    .dataframe tbody tr th {\n",
       "        vertical-align: top;\n",
       "    }\n",
       "\n",
       "    .dataframe thead th {\n",
       "        text-align: right;\n",
       "    }\n",
       "</style>\n",
       "<table border=\"1\" class=\"dataframe\">\n",
       "  <thead>\n",
       "    <tr style=\"text-align: right;\">\n",
       "      <th></th>\n",
       "      <th>Id</th>\n",
       "      <th>MSSubClass</th>\n",
       "      <th>MSZoning</th>\n",
       "      <th>LotFrontage</th>\n",
       "      <th>LotArea</th>\n",
       "      <th>Street</th>\n",
       "      <th>Alley</th>\n",
       "      <th>LotShape</th>\n",
       "      <th>LandContour</th>\n",
       "      <th>Utilities</th>\n",
       "      <th>...</th>\n",
       "      <th>PoolArea</th>\n",
       "      <th>PoolQC</th>\n",
       "      <th>Fence</th>\n",
       "      <th>MiscFeature</th>\n",
       "      <th>MiscVal</th>\n",
       "      <th>MoSold</th>\n",
       "      <th>YrSold</th>\n",
       "      <th>SaleType</th>\n",
       "      <th>SaleCondition</th>\n",
       "      <th>SalePrice</th>\n",
       "    </tr>\n",
       "  </thead>\n",
       "  <tbody>\n",
       "    <tr>\n",
       "      <th>0</th>\n",
       "      <td>1</td>\n",
       "      <td>60</td>\n",
       "      <td>RL</td>\n",
       "      <td>65.0</td>\n",
       "      <td>8450</td>\n",
       "      <td>Pave</td>\n",
       "      <td>NaN</td>\n",
       "      <td>Reg</td>\n",
       "      <td>Lvl</td>\n",
       "      <td>AllPub</td>\n",
       "      <td>...</td>\n",
       "      <td>0</td>\n",
       "      <td>NaN</td>\n",
       "      <td>NaN</td>\n",
       "      <td>NaN</td>\n",
       "      <td>0</td>\n",
       "      <td>2</td>\n",
       "      <td>2008</td>\n",
       "      <td>WD</td>\n",
       "      <td>Normal</td>\n",
       "      <td>208500</td>\n",
       "    </tr>\n",
       "    <tr>\n",
       "      <th>1</th>\n",
       "      <td>2</td>\n",
       "      <td>20</td>\n",
       "      <td>RL</td>\n",
       "      <td>80.0</td>\n",
       "      <td>9600</td>\n",
       "      <td>Pave</td>\n",
       "      <td>NaN</td>\n",
       "      <td>Reg</td>\n",
       "      <td>Lvl</td>\n",
       "      <td>AllPub</td>\n",
       "      <td>...</td>\n",
       "      <td>0</td>\n",
       "      <td>NaN</td>\n",
       "      <td>NaN</td>\n",
       "      <td>NaN</td>\n",
       "      <td>0</td>\n",
       "      <td>5</td>\n",
       "      <td>2007</td>\n",
       "      <td>WD</td>\n",
       "      <td>Normal</td>\n",
       "      <td>181500</td>\n",
       "    </tr>\n",
       "    <tr>\n",
       "      <th>2</th>\n",
       "      <td>3</td>\n",
       "      <td>60</td>\n",
       "      <td>RL</td>\n",
       "      <td>68.0</td>\n",
       "      <td>11250</td>\n",
       "      <td>Pave</td>\n",
       "      <td>NaN</td>\n",
       "      <td>IR1</td>\n",
       "      <td>Lvl</td>\n",
       "      <td>AllPub</td>\n",
       "      <td>...</td>\n",
       "      <td>0</td>\n",
       "      <td>NaN</td>\n",
       "      <td>NaN</td>\n",
       "      <td>NaN</td>\n",
       "      <td>0</td>\n",
       "      <td>9</td>\n",
       "      <td>2008</td>\n",
       "      <td>WD</td>\n",
       "      <td>Normal</td>\n",
       "      <td>223500</td>\n",
       "    </tr>\n",
       "    <tr>\n",
       "      <th>3</th>\n",
       "      <td>4</td>\n",
       "      <td>70</td>\n",
       "      <td>RL</td>\n",
       "      <td>60.0</td>\n",
       "      <td>9550</td>\n",
       "      <td>Pave</td>\n",
       "      <td>NaN</td>\n",
       "      <td>IR1</td>\n",
       "      <td>Lvl</td>\n",
       "      <td>AllPub</td>\n",
       "      <td>...</td>\n",
       "      <td>0</td>\n",
       "      <td>NaN</td>\n",
       "      <td>NaN</td>\n",
       "      <td>NaN</td>\n",
       "      <td>0</td>\n",
       "      <td>2</td>\n",
       "      <td>2006</td>\n",
       "      <td>WD</td>\n",
       "      <td>Abnorml</td>\n",
       "      <td>140000</td>\n",
       "    </tr>\n",
       "    <tr>\n",
       "      <th>4</th>\n",
       "      <td>5</td>\n",
       "      <td>60</td>\n",
       "      <td>RL</td>\n",
       "      <td>84.0</td>\n",
       "      <td>14260</td>\n",
       "      <td>Pave</td>\n",
       "      <td>NaN</td>\n",
       "      <td>IR1</td>\n",
       "      <td>Lvl</td>\n",
       "      <td>AllPub</td>\n",
       "      <td>...</td>\n",
       "      <td>0</td>\n",
       "      <td>NaN</td>\n",
       "      <td>NaN</td>\n",
       "      <td>NaN</td>\n",
       "      <td>0</td>\n",
       "      <td>12</td>\n",
       "      <td>2008</td>\n",
       "      <td>WD</td>\n",
       "      <td>Normal</td>\n",
       "      <td>250000</td>\n",
       "    </tr>\n",
       "  </tbody>\n",
       "</table>\n",
       "<p>5 rows × 81 columns</p>\n",
       "</div>"
      ],
      "text/plain": [
       "   Id  MSSubClass MSZoning  LotFrontage  LotArea Street Alley LotShape  \\\n",
       "0   1          60       RL         65.0     8450   Pave   NaN      Reg   \n",
       "1   2          20       RL         80.0     9600   Pave   NaN      Reg   \n",
       "2   3          60       RL         68.0    11250   Pave   NaN      IR1   \n",
       "3   4          70       RL         60.0     9550   Pave   NaN      IR1   \n",
       "4   5          60       RL         84.0    14260   Pave   NaN      IR1   \n",
       "\n",
       "  LandContour Utilities  ... PoolArea PoolQC Fence MiscFeature MiscVal MoSold  \\\n",
       "0         Lvl    AllPub  ...        0    NaN   NaN         NaN       0      2   \n",
       "1         Lvl    AllPub  ...        0    NaN   NaN         NaN       0      5   \n",
       "2         Lvl    AllPub  ...        0    NaN   NaN         NaN       0      9   \n",
       "3         Lvl    AllPub  ...        0    NaN   NaN         NaN       0      2   \n",
       "4         Lvl    AllPub  ...        0    NaN   NaN         NaN       0     12   \n",
       "\n",
       "  YrSold  SaleType  SaleCondition  SalePrice  \n",
       "0   2008        WD         Normal     208500  \n",
       "1   2007        WD         Normal     181500  \n",
       "2   2008        WD         Normal     223500  \n",
       "3   2006        WD        Abnorml     140000  \n",
       "4   2008        WD         Normal     250000  \n",
       "\n",
       "[5 rows x 81 columns]"
      ]
     },
     "execution_count": 2,
     "metadata": {},
     "output_type": "execute_result"
    }
   ],
   "source": [
    "trd.head()"
   ]
  },
  {
   "cell_type": "code",
   "execution_count": 3,
   "id": "a3075e9c",
   "metadata": {},
   "outputs": [
    {
     "data": {
      "text/html": [
       "<div>\n",
       "<style scoped>\n",
       "    .dataframe tbody tr th:only-of-type {\n",
       "        vertical-align: middle;\n",
       "    }\n",
       "\n",
       "    .dataframe tbody tr th {\n",
       "        vertical-align: top;\n",
       "    }\n",
       "\n",
       "    .dataframe thead th {\n",
       "        text-align: right;\n",
       "    }\n",
       "</style>\n",
       "<table border=\"1\" class=\"dataframe\">\n",
       "  <thead>\n",
       "    <tr style=\"text-align: right;\">\n",
       "      <th></th>\n",
       "      <th>Id</th>\n",
       "      <th>MSSubClass</th>\n",
       "      <th>MSZoning</th>\n",
       "      <th>LotFrontage</th>\n",
       "      <th>LotArea</th>\n",
       "      <th>Street</th>\n",
       "      <th>Alley</th>\n",
       "      <th>LotShape</th>\n",
       "      <th>LandContour</th>\n",
       "      <th>Utilities</th>\n",
       "      <th>...</th>\n",
       "      <th>ScreenPorch</th>\n",
       "      <th>PoolArea</th>\n",
       "      <th>PoolQC</th>\n",
       "      <th>Fence</th>\n",
       "      <th>MiscFeature</th>\n",
       "      <th>MiscVal</th>\n",
       "      <th>MoSold</th>\n",
       "      <th>YrSold</th>\n",
       "      <th>SaleType</th>\n",
       "      <th>SaleCondition</th>\n",
       "    </tr>\n",
       "  </thead>\n",
       "  <tbody>\n",
       "    <tr>\n",
       "      <th>0</th>\n",
       "      <td>1461</td>\n",
       "      <td>20</td>\n",
       "      <td>RH</td>\n",
       "      <td>80.0</td>\n",
       "      <td>11622</td>\n",
       "      <td>Pave</td>\n",
       "      <td>NaN</td>\n",
       "      <td>Reg</td>\n",
       "      <td>Lvl</td>\n",
       "      <td>AllPub</td>\n",
       "      <td>...</td>\n",
       "      <td>120</td>\n",
       "      <td>0</td>\n",
       "      <td>NaN</td>\n",
       "      <td>MnPrv</td>\n",
       "      <td>NaN</td>\n",
       "      <td>0</td>\n",
       "      <td>6</td>\n",
       "      <td>2010</td>\n",
       "      <td>WD</td>\n",
       "      <td>Normal</td>\n",
       "    </tr>\n",
       "    <tr>\n",
       "      <th>1</th>\n",
       "      <td>1462</td>\n",
       "      <td>20</td>\n",
       "      <td>RL</td>\n",
       "      <td>81.0</td>\n",
       "      <td>14267</td>\n",
       "      <td>Pave</td>\n",
       "      <td>NaN</td>\n",
       "      <td>IR1</td>\n",
       "      <td>Lvl</td>\n",
       "      <td>AllPub</td>\n",
       "      <td>...</td>\n",
       "      <td>0</td>\n",
       "      <td>0</td>\n",
       "      <td>NaN</td>\n",
       "      <td>NaN</td>\n",
       "      <td>Gar2</td>\n",
       "      <td>12500</td>\n",
       "      <td>6</td>\n",
       "      <td>2010</td>\n",
       "      <td>WD</td>\n",
       "      <td>Normal</td>\n",
       "    </tr>\n",
       "    <tr>\n",
       "      <th>2</th>\n",
       "      <td>1463</td>\n",
       "      <td>60</td>\n",
       "      <td>RL</td>\n",
       "      <td>74.0</td>\n",
       "      <td>13830</td>\n",
       "      <td>Pave</td>\n",
       "      <td>NaN</td>\n",
       "      <td>IR1</td>\n",
       "      <td>Lvl</td>\n",
       "      <td>AllPub</td>\n",
       "      <td>...</td>\n",
       "      <td>0</td>\n",
       "      <td>0</td>\n",
       "      <td>NaN</td>\n",
       "      <td>MnPrv</td>\n",
       "      <td>NaN</td>\n",
       "      <td>0</td>\n",
       "      <td>3</td>\n",
       "      <td>2010</td>\n",
       "      <td>WD</td>\n",
       "      <td>Normal</td>\n",
       "    </tr>\n",
       "    <tr>\n",
       "      <th>3</th>\n",
       "      <td>1464</td>\n",
       "      <td>60</td>\n",
       "      <td>RL</td>\n",
       "      <td>78.0</td>\n",
       "      <td>9978</td>\n",
       "      <td>Pave</td>\n",
       "      <td>NaN</td>\n",
       "      <td>IR1</td>\n",
       "      <td>Lvl</td>\n",
       "      <td>AllPub</td>\n",
       "      <td>...</td>\n",
       "      <td>0</td>\n",
       "      <td>0</td>\n",
       "      <td>NaN</td>\n",
       "      <td>NaN</td>\n",
       "      <td>NaN</td>\n",
       "      <td>0</td>\n",
       "      <td>6</td>\n",
       "      <td>2010</td>\n",
       "      <td>WD</td>\n",
       "      <td>Normal</td>\n",
       "    </tr>\n",
       "    <tr>\n",
       "      <th>4</th>\n",
       "      <td>1465</td>\n",
       "      <td>120</td>\n",
       "      <td>RL</td>\n",
       "      <td>43.0</td>\n",
       "      <td>5005</td>\n",
       "      <td>Pave</td>\n",
       "      <td>NaN</td>\n",
       "      <td>IR1</td>\n",
       "      <td>HLS</td>\n",
       "      <td>AllPub</td>\n",
       "      <td>...</td>\n",
       "      <td>144</td>\n",
       "      <td>0</td>\n",
       "      <td>NaN</td>\n",
       "      <td>NaN</td>\n",
       "      <td>NaN</td>\n",
       "      <td>0</td>\n",
       "      <td>1</td>\n",
       "      <td>2010</td>\n",
       "      <td>WD</td>\n",
       "      <td>Normal</td>\n",
       "    </tr>\n",
       "  </tbody>\n",
       "</table>\n",
       "<p>5 rows × 80 columns</p>\n",
       "</div>"
      ],
      "text/plain": [
       "     Id  MSSubClass MSZoning  LotFrontage  LotArea Street Alley LotShape  \\\n",
       "0  1461          20       RH         80.0    11622   Pave   NaN      Reg   \n",
       "1  1462          20       RL         81.0    14267   Pave   NaN      IR1   \n",
       "2  1463          60       RL         74.0    13830   Pave   NaN      IR1   \n",
       "3  1464          60       RL         78.0     9978   Pave   NaN      IR1   \n",
       "4  1465         120       RL         43.0     5005   Pave   NaN      IR1   \n",
       "\n",
       "  LandContour Utilities  ... ScreenPorch PoolArea PoolQC  Fence MiscFeature  \\\n",
       "0         Lvl    AllPub  ...         120        0    NaN  MnPrv         NaN   \n",
       "1         Lvl    AllPub  ...           0        0    NaN    NaN        Gar2   \n",
       "2         Lvl    AllPub  ...           0        0    NaN  MnPrv         NaN   \n",
       "3         Lvl    AllPub  ...           0        0    NaN    NaN         NaN   \n",
       "4         HLS    AllPub  ...         144        0    NaN    NaN         NaN   \n",
       "\n",
       "  MiscVal MoSold  YrSold  SaleType  SaleCondition  \n",
       "0       0      6    2010        WD         Normal  \n",
       "1   12500      6    2010        WD         Normal  \n",
       "2       0      3    2010        WD         Normal  \n",
       "3       0      6    2010        WD         Normal  \n",
       "4       0      1    2010        WD         Normal  \n",
       "\n",
       "[5 rows x 80 columns]"
      ]
     },
     "execution_count": 3,
     "metadata": {},
     "output_type": "execute_result"
    }
   ],
   "source": [
    "tsd.head()"
   ]
  },
  {
   "cell_type": "markdown",
   "id": "51a712c7",
   "metadata": {},
   "source": [
    "# Step 2 : Missing Data Treatment"
   ]
  },
  {
   "cell_type": "code",
   "execution_count": 4,
   "id": "18d59b05",
   "metadata": {},
   "outputs": [
    {
     "data": {
      "text/plain": [
       "Id                 0\n",
       "MSSubClass         0\n",
       "MSZoning           0\n",
       "LotFrontage      259\n",
       "LotArea            0\n",
       "                ... \n",
       "MoSold             0\n",
       "YrSold             0\n",
       "SaleType           0\n",
       "SaleCondition      0\n",
       "SalePrice          0\n",
       "Length: 81, dtype: int64"
      ]
     },
     "execution_count": 4,
     "metadata": {},
     "output_type": "execute_result"
    }
   ],
   "source": [
    "trd.isna().sum()"
   ]
  },
  {
   "cell_type": "markdown",
   "id": "b7839fc1",
   "metadata": {},
   "source": [
    "# Step 3: Checking for variables with NA Values"
   ]
  },
  {
   "attachments": {
    "NAvalues.jpg": {
     "image/jpeg": "[encoded data removed]"
    }
   },
   "cell_type": "markdown",
   "id": "fd41cc25",
   "metadata": {},
   "source": [
    "![NAvalues.jpg](attachment:NAvalues.jpg)"
   ]
  },
  {
   "cell_type": "markdown",
   "id": "6054d08e",
   "metadata": {},
   "source": [
    "If we observe above there are few variables which have NA values . Following steps will be to check for variable with NA values"
   ]
  },
  {
   "cell_type": "markdown",
   "id": "e6b8497d",
   "metadata": {},
   "source": [
    "# Openeing File with Data Description to check for NA Values"
   ]
  },
  {
   "cell_type": "code",
   "execution_count": 5,
   "id": "a1b712b8",
   "metadata": {},
   "outputs": [],
   "source": [
    "path = \"D:/Etlhive class data/Project 100722/Input/data_description.txt\"\n",
    "with open(path, \"r\") as file1:\n",
    "    FileasList = file1.readlines()"
   ]
  },
  {
   "cell_type": "code",
   "execution_count": 6,
   "id": "d4cdc084",
   "metadata": {},
   "outputs": [
    {
     "data": {
      "text/plain": [
       "['MSSubClassMSSubClass: Identifies the type of dwelling involved in the sale.\\t\\n',\n",
       " '\\n',\n",
       " '        20\\t1-STORY 1946 & NEWER ALL STYLES\\n',\n",
       " '        30\\t1-STORY 1945 & OLDER\\n',\n",
       " '        40\\t1-STORY W/FINISHED ATTIC ALL AGES\\n',\n",
       " '        45\\t1-1/2 STORY - UNFINISHED ALL AGES\\n',\n",
       " '        50\\t1-1/2 STORY FINISHED ALL AGES\\n',\n",
       " '        60\\t2-STORY 1946 & NEWER\\n',\n",
       " '        70\\t2-STORY 1945 & OLDER\\n',\n",
       " '        75\\t2-1/2 STORY ALL AGES\\n',\n",
       " '        80\\tSPLIT OR MULTI-LEVEL\\n',\n",
       " '        85\\tSPLIT FOYER\\n',\n",
       " '        90\\tDUPLEX - ALL STYLES AND AGES\\n',\n",
       " '       120\\t1-STORY PUD (Planned Unit Development) - 1946 & NEWER\\n',\n",
       " '       150\\t1-1/2 STORY PUD - ALL AGES\\n',\n",
       " '       160\\t2-STORY PUD - 1946 & NEWER\\n',\n",
       " '       180\\tPUD - MULTILEVEL - INCL SPLIT LEV/FOYER\\n',\n",
       " '       190\\t2 FAMILY CONVERSION - ALL STYLES AND AGES\\n',\n",
       " '\\n',\n",
       " 'MSZoning: Identifies the general zoning classification of the sale.\\n',\n",
       " '\\t\\t\\n',\n",
       " '       A\\tAgriculture\\n',\n",
       " '       C\\tCommercial\\n',\n",
       " '       FV\\tFloating Village Residential\\n',\n",
       " '       I\\tIndustrial\\n',\n",
       " '       RH\\tResidential High Density\\n',\n",
       " '       RL\\tResidential Low Density\\n',\n",
       " '       RP\\tResidential Low Density Park \\n',\n",
       " '       RM\\tResidential Medium Density\\n',\n",
       " '\\t\\n',\n",
       " 'LotFrontage: Linear feet of street connected to property\\n',\n",
       " '\\n',\n",
       " 'LotArea: Lot size in square feet\\n',\n",
       " '\\n',\n",
       " 'Street: Type of road access to property\\n',\n",
       " '\\n',\n",
       " '       Grvl\\tGravel\\t\\n',\n",
       " '       Pave\\tPaved\\n',\n",
       " '       \\t\\n',\n",
       " 'Alley: Type of alley access to property\\n',\n",
       " '\\n',\n",
       " '       Grvl\\tGravel\\n',\n",
       " '       Pave\\tPaved\\n',\n",
       " '       NA \\tNo alley access\\n',\n",
       " '\\t\\t\\n',\n",
       " 'LotShape: General shape of property\\n',\n",
       " '\\n',\n",
       " '       Reg\\tRegular\\t\\n',\n",
       " '       IR1\\tSlightly irregular\\n',\n",
       " '       IR2\\tModerately Irregular\\n',\n",
       " '       IR3\\tIrregular\\n',\n",
       " '       \\n',\n",
       " 'LandContour: Flatness of the property\\n',\n",
       " '\\n',\n",
       " '       Lvl\\tNear Flat/Level\\t\\n',\n",
       " '       Bnk\\tBanked - Quick and significant rise from street grade to building\\n',\n",
       " '       HLS\\tHillside - Significant slope from side to side\\n',\n",
       " '       Low\\tDepression\\n',\n",
       " '\\t\\t\\n',\n",
       " 'Utilities: Type of utilities available\\n',\n",
       " '\\t\\t\\n',\n",
       " '       AllPub\\tAll public Utilities (E,G,W,& S)\\t\\n',\n",
       " '       NoSewr\\tElectricity, Gas, and Water (Septic Tank)\\n',\n",
       " '       NoSeWa\\tElectricity and Gas Only\\n',\n",
       " '       ELO\\tElectricity only\\t\\n',\n",
       " '\\t\\n',\n",
       " 'LotConfig: Lot configuration\\n',\n",
       " '\\n',\n",
       " '       Inside\\tInside lot\\n',\n",
       " '       Corner\\tCorner lot\\n',\n",
       " '       CulDSac\\tCul-de-sac\\n',\n",
       " '       FR2\\tFrontage on 2 sides of property\\n',\n",
       " '       FR3\\tFrontage on 3 sides of property\\n',\n",
       " '\\t\\n',\n",
       " 'LandSlope: Slope of property\\n',\n",
       " '\\t\\t\\n',\n",
       " '       Gtl\\tGentle slope\\n',\n",
       " '       Mod\\tModerate Slope\\t\\n',\n",
       " '       Sev\\tSevere Slope\\n',\n",
       " '\\t\\n',\n",
       " 'Neighborhood: Physical locations within Ames city limits\\n',\n",
       " '\\n',\n",
       " '       Blmngtn\\tBloomington Heights\\n',\n",
       " '       Blueste\\tBluestem\\n',\n",
       " '       BrDale\\tBriardale\\n',\n",
       " '       BrkSide\\tBrookside\\n',\n",
       " '       ClearCr\\tClear Creek\\n',\n",
       " '       CollgCr\\tCollege Creek\\n',\n",
       " '       Crawfor\\tCrawford\\n',\n",
       " '       Edwards\\tEdwards\\n',\n",
       " '       Gilbert\\tGilbert\\n',\n",
       " '       IDOTRR\\tIowa DOT and Rail Road\\n',\n",
       " '       MeadowV\\tMeadow Village\\n',\n",
       " '       Mitchel\\tMitchell\\n',\n",
       " '       Names\\tNorth Ames\\n',\n",
       " '       NoRidge\\tNorthridge\\n',\n",
       " '       NPkVill\\tNorthpark Villa\\n',\n",
       " '       NridgHt\\tNorthridge Heights\\n',\n",
       " '       NWAmes\\tNorthwest Ames\\n',\n",
       " '       OldTown\\tOld Town\\n',\n",
       " '       SWISU\\tSouth & West of Iowa State University\\n',\n",
       " '       Sawyer\\tSawyer\\n',\n",
       " '       SawyerW\\tSawyer West\\n',\n",
       " '       Somerst\\tSomerset\\n',\n",
       " '       StoneBr\\tStone Brook\\n',\n",
       " '       Timber\\tTimberland\\n',\n",
       " '       Veenker\\tVeenker\\n',\n",
       " '\\t\\t\\t\\n',\n",
       " 'Condition1: Proximity to various conditions\\n',\n",
       " '\\t\\n',\n",
       " '       Artery\\tAdjacent to arterial street\\n',\n",
       " '       Feedr\\tAdjacent to feeder street\\t\\n',\n",
       " '       Norm\\tNormal\\t\\n',\n",
       " \"       RRNn\\tWithin 200' of North-South Railroad\\n\",\n",
       " '       RRAn\\tAdjacent to North-South Railroad\\n',\n",
       " '       PosN\\tNear positive off-site feature--park, greenbelt, etc.\\n',\n",
       " '       PosA\\tAdjacent to postive off-site feature\\n',\n",
       " \"       RRNe\\tWithin 200' of East-West Railroad\\n\",\n",
       " '       RRAe\\tAdjacent to East-West Railroad\\n',\n",
       " '\\t\\n',\n",
       " 'Condition2: Proximity to various conditions (if more than one is present)\\n',\n",
       " '\\t\\t\\n',\n",
       " '       Artery\\tAdjacent to arterial street\\n',\n",
       " '       Feedr\\tAdjacent to feeder street\\t\\n',\n",
       " '       Norm\\tNormal\\t\\n',\n",
       " \"       RRNn\\tWithin 200' of North-South Railroad\\n\",\n",
       " '       RRAn\\tAdjacent to North-South Railroad\\n',\n",
       " '       PosN\\tNear positive off-site feature--park, greenbelt, etc.\\n',\n",
       " '       PosA\\tAdjacent to postive off-site feature\\n',\n",
       " \"       RRNe\\tWithin 200' of East-West Railroad\\n\",\n",
       " '       RRAe\\tAdjacent to East-West Railroad\\n',\n",
       " '\\t\\n',\n",
       " 'BldgType: Type of dwelling\\n',\n",
       " '\\t\\t\\n',\n",
       " '       1Fam\\tSingle-family Detached\\t\\n',\n",
       " '       2FmCon\\tTwo-family Conversion; originally built as one-family dwelling\\n',\n",
       " '       Duplx\\tDuplex\\n',\n",
       " '       TwnhsE\\tTownhouse End Unit\\n',\n",
       " '       TwnhsI\\tTownhouse Inside Unit\\n',\n",
       " '\\t\\n',\n",
       " 'HouseStyle: Style of dwelling\\n',\n",
       " '\\t\\n',\n",
       " '       1Story\\tOne story\\n',\n",
       " '       1.5Fin\\tOne and one-half story: 2nd level finished\\n',\n",
       " '       1.5Unf\\tOne and one-half story: 2nd level unfinished\\n',\n",
       " '       2Story\\tTwo story\\n',\n",
       " '       2.5Fin\\tTwo and one-half story: 2nd level finished\\n',\n",
       " '       2.5Unf\\tTwo and one-half story: 2nd level unfinished\\n',\n",
       " '       SFoyer\\tSplit Foyer\\n',\n",
       " '       SLvl\\tSplit Level\\n',\n",
       " '\\t\\n',\n",
       " 'OverallQual: Rates the overall material and finish of the house\\n',\n",
       " '\\n',\n",
       " '       10\\tVery Excellent\\n',\n",
       " '       9\\tExcellent\\n',\n",
       " '       8\\tVery Good\\n',\n",
       " '       7\\tGood\\n',\n",
       " '       6\\tAbove Average\\n',\n",
       " '       5\\tAverage\\n',\n",
       " '       4\\tBelow Average\\n',\n",
       " '       3\\tFair\\n',\n",
       " '       2\\tPoor\\n',\n",
       " '       1\\tVery Poor\\n',\n",
       " '\\t\\n',\n",
       " 'OverallCond: Rates the overall condition of the house\\n',\n",
       " '\\n',\n",
       " '       10\\tVery Excellent\\n',\n",
       " '       9\\tExcellent\\n',\n",
       " '       8\\tVery Good\\n',\n",
       " '       7\\tGood\\n',\n",
       " '       6\\tAbove Average\\t\\n',\n",
       " '       5\\tAverage\\n',\n",
       " '       4\\tBelow Average\\t\\n',\n",
       " '       3\\tFair\\n',\n",
       " '       2\\tPoor\\n',\n",
       " '       1\\tVery Poor\\n',\n",
       " '\\t\\t\\n',\n",
       " 'YearBuilt: Original construction date\\n',\n",
       " '\\n',\n",
       " 'YearRemodAdd: Remodel date (same as construction date if no remodeling or additions)\\n',\n",
       " '\\n',\n",
       " 'RoofStyle: Type of roof\\n',\n",
       " '\\n',\n",
       " '       Flat\\tFlat\\n',\n",
       " '       Gable\\tGable\\n',\n",
       " '       Gambrel\\tGabrel (Barn)\\n',\n",
       " '       Hip\\tHip\\n',\n",
       " '       Mansard\\tMansard\\n',\n",
       " '       Shed\\tShed\\n',\n",
       " '\\t\\t\\n',\n",
       " 'RoofMatl: Roof material\\n',\n",
       " '\\n',\n",
       " '       ClyTile\\tClay or Tile\\n',\n",
       " '       CompShg\\tStandard (Composite) Shingle\\n',\n",
       " '       Membran\\tMembrane\\n',\n",
       " '       Metal\\tMetal\\n',\n",
       " '       Roll\\tRoll\\n',\n",
       " '       Tar&Grv\\tGravel & Tar\\n',\n",
       " '       WdShake\\tWood Shakes\\n',\n",
       " '       WdShngl\\tWood Shingles\\n',\n",
       " '\\t\\t\\n',\n",
       " 'Exterior1st: Exterior covering on house\\n',\n",
       " '\\n',\n",
       " '       AsbShng\\tAsbestos Shingles\\n',\n",
       " '       AsphShn\\tAsphalt Shingles\\n',\n",
       " '       BrkComm\\tBrick Common\\n',\n",
       " '       BrkFace\\tBrick Face\\n',\n",
       " '       CBlock\\tCinder Block\\n',\n",
       " '       CemntBd\\tCement Board\\n',\n",
       " '       HdBoard\\tHard Board\\n',\n",
       " '       ImStucc\\tImitation Stucco\\n',\n",
       " '       MetalSd\\tMetal Siding\\n',\n",
       " '       Other\\tOther\\n',\n",
       " '       Plywood\\tPlywood\\n',\n",
       " '       PreCast\\tPreCast\\t\\n',\n",
       " '       Stone\\tStone\\n',\n",
       " '       Stucco\\tStucco\\n',\n",
       " '       VinylSd\\tVinyl Siding\\n',\n",
       " '       Wd Sdng\\tWood Siding\\n',\n",
       " '       WdShing\\tWood Shingles\\n',\n",
       " '\\t\\n',\n",
       " 'Exterior2nd: Exterior covering on house (if more than one material)\\n',\n",
       " '\\n',\n",
       " '       AsbShng\\tAsbestos Shingles\\n',\n",
       " '       AsphShn\\tAsphalt Shingles\\n',\n",
       " '       BrkComm\\tBrick Common\\n',\n",
       " '       BrkFace\\tBrick Face\\n',\n",
       " '       CBlock\\tCinder Block\\n',\n",
       " '       CemntBd\\tCement Board\\n',\n",
       " '       HdBoard\\tHard Board\\n',\n",
       " '       ImStucc\\tImitation Stucco\\n',\n",
       " '       MetalSd\\tMetal Siding\\n',\n",
       " '       Other\\tOther\\n',\n",
       " '       Plywood\\tPlywood\\n',\n",
       " '       PreCast\\tPreCast\\n',\n",
       " '       Stone\\tStone\\n',\n",
       " '       Stucco\\tStucco\\n',\n",
       " '       VinylSd\\tVinyl Siding\\n',\n",
       " '       Wd Sdng\\tWood Siding\\n',\n",
       " '       WdShing\\tWood Shingles\\n',\n",
       " '\\t\\n',\n",
       " 'MasVnrType: Masonry veneer type\\n',\n",
       " '\\n',\n",
       " '       BrkCmn\\tBrick Common\\n',\n",
       " '       BrkFace\\tBrick Face\\n',\n",
       " '       CBlock\\tCinder Block\\n',\n",
       " '       None\\tNone\\n',\n",
       " '       Stone\\tStone\\n',\n",
       " '\\t\\n',\n",
       " 'MasVnrArea: Masonry veneer area in square feet\\n',\n",
       " '\\n',\n",
       " 'ExterQual: Evaluates the quality of the material on the exterior \\n',\n",
       " '\\t\\t\\n',\n",
       " '       Ex\\tExcellent\\n',\n",
       " '       Gd\\tGood\\n',\n",
       " '       TA\\tAverage/Typical\\n',\n",
       " '       Fa\\tFair\\n',\n",
       " '       Po\\tPoor\\n',\n",
       " '\\t\\t\\n',\n",
       " 'ExterCond: Evaluates the present condition of the material on the exterior\\n',\n",
       " '\\t\\t\\n',\n",
       " '       Ex\\tExcellent\\n',\n",
       " '       Gd\\tGood\\n',\n",
       " '       TA\\tAverage/Typical\\n',\n",
       " '       Fa\\tFair\\n',\n",
       " '       Po\\tPoor\\n',\n",
       " '\\t\\t\\n',\n",
       " 'Foundation: Type of foundation\\n',\n",
       " '\\t\\t\\n',\n",
       " '       BrkTil\\tBrick & Tile\\n',\n",
       " '       CBlock\\tCinder Block\\n',\n",
       " '       PConc\\tPoured Contrete\\t\\n',\n",
       " '       Slab\\tSlab\\n',\n",
       " '       Stone\\tStone\\n',\n",
       " '       Wood\\tWood\\n',\n",
       " '\\t\\t\\n',\n",
       " 'BsmtQual: Evaluates the height of the basement\\n',\n",
       " '\\n',\n",
       " '       Ex\\tExcellent (100+ inches)\\t\\n',\n",
       " '       Gd\\tGood (90-99 inches)\\n',\n",
       " '       TA\\tTypical (80-89 inches)\\n',\n",
       " '       Fa\\tFair (70-79 inches)\\n',\n",
       " '       Po\\tPoor (<70 inches\\n',\n",
       " '       NA\\tNo Basement\\n',\n",
       " '\\t\\t\\n',\n",
       " 'BsmtCond: Evaluates the general condition of the basement\\n',\n",
       " '\\n',\n",
       " '       Ex\\tExcellent\\n',\n",
       " '       Gd\\tGood\\n',\n",
       " '       TA\\tTypical - slight dampness allowed\\n',\n",
       " '       Fa\\tFair - dampness or some cracking or settling\\n',\n",
       " '       Po\\tPoor - Severe cracking, settling, or wetness\\n',\n",
       " '       NA\\tNo Basement\\n',\n",
       " '\\t\\n',\n",
       " 'BsmtExposure: Refers to walkout or garden level walls\\n',\n",
       " '\\n',\n",
       " '       Gd\\tGood Exposure\\n',\n",
       " '       Av\\tAverage Exposure (split levels or foyers typically score average or above)\\t\\n',\n",
       " '       Mn\\tMimimum Exposure\\n',\n",
       " '       No\\tNo Exposure\\n',\n",
       " '       NA\\tNo Basement\\n',\n",
       " '\\t\\n',\n",
       " 'BsmtFinType1: Rating of basement finished area\\n',\n",
       " '\\n',\n",
       " '       GLQ\\tGood Living Quarters\\n',\n",
       " '       ALQ\\tAverage Living Quarters\\n',\n",
       " '       BLQ\\tBelow Average Living Quarters\\t\\n',\n",
       " '       Rec\\tAverage Rec Room\\n',\n",
       " '       LwQ\\tLow Quality\\n',\n",
       " '       Unf\\tUnfinshed\\n',\n",
       " '       NA\\tNo Basement\\n',\n",
       " '\\t\\t\\n',\n",
       " 'BsmtFinSF1: Type 1 finished square feet\\n',\n",
       " '\\n',\n",
       " 'BsmtFinType2: Rating of basement finished area (if multiple types)\\n',\n",
       " '\\n',\n",
       " '       GLQ\\tGood Living Quarters\\n',\n",
       " '       ALQ\\tAverage Living Quarters\\n',\n",
       " '       BLQ\\tBelow Average Living Quarters\\t\\n',\n",
       " '       Rec\\tAverage Rec Room\\n',\n",
       " '       LwQ\\tLow Quality\\n',\n",
       " '       Unf\\tUnfinshed\\n',\n",
       " '       NA\\tNo Basement\\n',\n",
       " '\\n',\n",
       " 'BsmtFinSF2: Type 2 finished square feet\\n',\n",
       " '\\n',\n",
       " 'BsmtUnfSF: Unfinished square feet of basement area\\n',\n",
       " '\\n',\n",
       " 'TotalBsmtSF: Total square feet of basement area\\n',\n",
       " '\\n',\n",
       " 'Heating: Type of heating\\n',\n",
       " '\\t\\t\\n',\n",
       " '       Floor\\tFloor Furnace\\n',\n",
       " '       GasA\\tGas forced warm air furnace\\n',\n",
       " '       GasW\\tGas hot water or steam heat\\n',\n",
       " '       Grav\\tGravity furnace\\t\\n',\n",
       " '       OthW\\tHot water or steam heat other than gas\\n',\n",
       " '       Wall\\tWall furnace\\n',\n",
       " '\\t\\t\\n',\n",
       " 'HeatingQC: Heating quality and condition\\n',\n",
       " '\\n',\n",
       " '       Ex\\tExcellent\\n',\n",
       " '       Gd\\tGood\\n',\n",
       " '       TA\\tAverage/Typical\\n',\n",
       " '       Fa\\tFair\\n',\n",
       " '       Po\\tPoor\\n',\n",
       " '\\t\\t\\n',\n",
       " 'CentralAir: Central air conditioning\\n',\n",
       " '\\n',\n",
       " '       N\\tNo\\n',\n",
       " '       Y\\tYes\\n',\n",
       " '\\t\\t\\n',\n",
       " 'Electrical: Electrical system\\n',\n",
       " '\\n',\n",
       " '       SBrkr\\tStandard Circuit Breakers & Romex\\n',\n",
       " '       FuseA\\tFuse Box over 60 AMP and all Romex wiring (Average)\\t\\n',\n",
       " '       FuseF\\t60 AMP Fuse Box and mostly Romex wiring (Fair)\\n',\n",
       " '       FuseP\\t60 AMP Fuse Box and mostly knob & tube wiring (poor)\\n',\n",
       " '       Mix\\tMixed\\n',\n",
       " '\\t\\t\\n',\n",
       " '1stFlrSF: First Floor square feet\\n',\n",
       " ' \\n',\n",
       " '2ndFlrSF: Second floor square feet\\n',\n",
       " '\\n',\n",
       " 'LowQualFinSF: Low quality finished square feet (all floors)\\n',\n",
       " '\\n',\n",
       " 'GrLivArea: Above grade (ground) living area square feet\\n',\n",
       " '\\n',\n",
       " 'BsmtFullBath: Basement full bathrooms\\n',\n",
       " '\\n',\n",
       " 'BsmtHalfBath: Basement half bathrooms\\n',\n",
       " '\\n',\n",
       " 'FullBath: Full bathrooms above grade\\n',\n",
       " '\\n',\n",
       " 'HalfBath: Half baths above grade\\n',\n",
       " '\\n',\n",
       " 'Bedroom: Bedrooms above grade (does NOT include basement bedrooms)\\n',\n",
       " '\\n',\n",
       " 'Kitchen: Kitchens above grade\\n',\n",
       " '\\n',\n",
       " 'KitchenQual: Kitchen quality\\n',\n",
       " '\\n',\n",
       " '       Ex\\tExcellent\\n',\n",
       " '       Gd\\tGood\\n',\n",
       " '       TA\\tTypical/Average\\n',\n",
       " '       Fa\\tFair\\n',\n",
       " '       Po\\tPoor\\n',\n",
       " '       \\t\\n',\n",
       " 'TotRmsAbvGrd: Total rooms above grade (does not include bathrooms)\\n',\n",
       " '\\n',\n",
       " 'Functional: Home functionality (Assume typical unless deductions are warranted)\\n',\n",
       " '\\n',\n",
       " '       Typ\\tTypical Functionality\\n',\n",
       " '       Min1\\tMinor Deductions 1\\n',\n",
       " '       Min2\\tMinor Deductions 2\\n',\n",
       " '       Mod\\tModerate Deductions\\n',\n",
       " '       Maj1\\tMajor Deductions 1\\n',\n",
       " '       Maj2\\tMajor Deductions 2\\n',\n",
       " '       Sev\\tSeverely Damaged\\n',\n",
       " '       Sal\\tSalvage only\\n',\n",
       " '\\t\\t\\n',\n",
       " 'Fireplaces: Number of fireplaces\\n',\n",
       " '\\n',\n",
       " 'FireplaceQu: Fireplace quality\\n',\n",
       " '\\n',\n",
       " '       Ex\\tExcellent - Exceptional Masonry Fireplace\\n',\n",
       " '       Gd\\tGood - Masonry Fireplace in main level\\n',\n",
       " '       TA\\tAverage - Prefabricated Fireplace in main living area or Masonry Fireplace in basement\\n',\n",
       " '       Fa\\tFair - Prefabricated Fireplace in basement\\n',\n",
       " '       Po\\tPoor - Ben Franklin Stove\\n',\n",
       " '       NA\\tNo Fireplace\\n',\n",
       " '\\t\\t\\n',\n",
       " 'GarageType: Garage location\\n',\n",
       " '\\t\\t\\n',\n",
       " '       2Types\\tMore than one type of garage\\n',\n",
       " '       Attchd\\tAttached to home\\n',\n",
       " '       Basment\\tBasement Garage\\n',\n",
       " '       BuiltIn\\tBuilt-In (Garage part of house - typically has room above garage)\\n',\n",
       " '       CarPort\\tCar Port\\n',\n",
       " '       Detchd\\tDetached from home\\n',\n",
       " '       NA\\tNo Garage\\n',\n",
       " '\\t\\t\\n',\n",
       " 'GarageYrBlt: Year garage was built\\n',\n",
       " '\\t\\t\\n',\n",
       " 'GarageFinish: Interior finish of the garage\\n',\n",
       " '\\n',\n",
       " '       Fin\\tFinished\\n',\n",
       " '       RFn\\tRough Finished\\t\\n',\n",
       " '       Unf\\tUnfinished\\n',\n",
       " '       NA\\tNo Garage\\n',\n",
       " '\\t\\t\\n',\n",
       " 'GarageCars: Size of garage in car capacity\\n',\n",
       " '\\n',\n",
       " 'GarageArea: Size of garage in square feet\\n',\n",
       " '\\n',\n",
       " 'GarageQual: Garage quality\\n',\n",
       " '\\n',\n",
       " '       Ex\\tExcellent\\n',\n",
       " '       Gd\\tGood\\n',\n",
       " '       TA\\tTypical/Average\\n',\n",
       " '       Fa\\tFair\\n',\n",
       " '       Po\\tPoor\\n',\n",
       " '       NA\\tNo Garage\\n',\n",
       " '\\t\\t\\n',\n",
       " 'GarageCond: Garage condition\\n',\n",
       " '\\n',\n",
       " '       Ex\\tExcellent\\n',\n",
       " '       Gd\\tGood\\n',\n",
       " '       TA\\tTypical/Average\\n',\n",
       " '       Fa\\tFair\\n',\n",
       " '       Po\\tPoor\\n',\n",
       " '       NA\\tNo Garage\\n',\n",
       " '\\t\\t\\n',\n",
       " 'PavedDrive: Paved driveway\\n',\n",
       " '\\n',\n",
       " '       Y\\tPaved \\n',\n",
       " '       P\\tPartial Pavement\\n',\n",
       " '       N\\tDirt/Gravel\\n',\n",
       " '\\t\\t\\n',\n",
       " 'WoodDeckSF: Wood deck area in square feet\\n',\n",
       " '\\n',\n",
       " 'OpenPorchSF: Open porch area in square feet\\n',\n",
       " '\\n',\n",
       " 'EnclosedPorch: Enclosed porch area in square feet\\n',\n",
       " '\\n',\n",
       " '3SsnPorch: Three season porch area in square feet\\n',\n",
       " '\\n',\n",
       " 'ScreenPorch: Screen porch area in square feet\\n',\n",
       " '\\n',\n",
       " 'PoolArea: Pool area in square feet\\n',\n",
       " '\\n',\n",
       " 'PoolQC: Pool quality\\n',\n",
       " '\\t\\t\\n',\n",
       " '       Ex\\tExcellent\\n',\n",
       " '       Gd\\tGood\\n',\n",
       " '       TA\\tAverage/Typical\\n',\n",
       " '       Fa\\tFair\\n',\n",
       " '       NA\\tNo Pool\\n',\n",
       " '\\t\\t\\n',\n",
       " 'Fence: Fence quality\\n',\n",
       " '\\t\\t\\n',\n",
       " '       GdPrv\\tGood Privacy\\n',\n",
       " '       MnPrv\\tMinimum Privacy\\n',\n",
       " '       GdWo\\tGood Wood\\n',\n",
       " '       MnWw\\tMinimum Wood/Wire\\n',\n",
       " '       NA\\tNo Fence\\n',\n",
       " '\\t\\n',\n",
       " 'MiscFeature: Miscellaneous feature not covered in other categories\\n',\n",
       " '\\t\\t\\n',\n",
       " '       Elev\\tElevator\\n',\n",
       " '       Gar2\\t2nd Garage (if not described in garage section)\\n',\n",
       " '       Othr\\tOther\\n',\n",
       " '       Shed\\tShed (over 100 SF)\\n',\n",
       " '       TenC\\tTennis Court\\n',\n",
       " '       NA\\tNone\\n',\n",
       " '\\t\\t\\n',\n",
       " 'MiscVal: $Value of miscellaneous feature\\n',\n",
       " '\\n',\n",
       " 'MoSold: Month Sold (MM)\\n',\n",
       " '\\n',\n",
       " 'YrSold: Year Sold (YYYY)\\n',\n",
       " '\\n',\n",
       " 'SaleType: Type of sale\\n',\n",
       " '\\t\\t\\n',\n",
       " '       WD \\tWarranty Deed - Conventional\\n',\n",
       " '       CWD\\tWarranty Deed - Cash\\n',\n",
       " '       VWD\\tWarranty Deed - VA Loan\\n',\n",
       " '       New\\tHome just constructed and sold\\n',\n",
       " '       COD\\tCourt Officer Deed/Estate\\n',\n",
       " '       Con\\tContract 15% Down payment regular terms\\n',\n",
       " '       ConLw\\tContract Low Down payment and low interest\\n',\n",
       " '       ConLI\\tContract Low Interest\\n',\n",
       " '       ConLD\\tContract Low Down\\n',\n",
       " '       Oth\\tOther\\n',\n",
       " '\\t\\t\\n',\n",
       " 'SaleCondition: Condition of sale\\n',\n",
       " '\\n',\n",
       " '       Normal\\tNormal Sale\\n',\n",
       " '       Abnorml\\tAbnormal Sale -  trade, foreclosure, short sale\\n',\n",
       " '       AdjLand\\tAdjoining Land Purchase\\n',\n",
       " '       Alloca\\tAllocation - two linked properties with separate deeds, typically condo with a garage unit\\t\\n',\n",
       " '       Family\\tSale between family members\\n',\n",
       " '       Partial\\tHome was not completed when last assessed (associated with New Homes)\\n']"
      ]
     },
     "execution_count": 6,
     "metadata": {},
     "output_type": "execute_result"
    }
   ],
   "source": [
    "FileasList"
   ]
  },
  {
   "cell_type": "code",
   "execution_count": 7,
   "id": "ab4d8f6d",
   "metadata": {},
   "outputs": [
    {
     "data": {
      "text/plain": [
       "True"
      ]
     },
     "execution_count": 7,
     "metadata": {},
     "output_type": "execute_result"
    }
   ],
   "source": [
    "file1.closed"
   ]
  },
  {
   "cell_type": "code",
   "execution_count": 8,
   "id": "7d48c670",
   "metadata": {},
   "outputs": [
    {
     "data": {
      "text/plain": [
       "[-1,\n",
       " -1,\n",
       " -1,\n",
       " -1,\n",
       " -1,\n",
       " -1,\n",
       " -1,\n",
       " -1,\n",
       " -1,\n",
       " -1,\n",
       " -1,\n",
       " -1,\n",
       " -1,\n",
       " -1,\n",
       " -1,\n",
       " -1,\n",
       " -1,\n",
       " -1,\n",
       " -1,\n",
       " -1,\n",
       " -1,\n",
       " -1,\n",
       " -1,\n",
       " -1,\n",
       " -1,\n",
       " -1,\n",
       " -1,\n",
       " -1,\n",
       " -1,\n",
       " -1,\n",
       " -1,\n",
       " -1,\n",
       " -1,\n",
       " -1,\n",
       " -1,\n",
       " -1,\n",
       " -1,\n",
       " -1,\n",
       " -1,\n",
       " -1,\n",
       " -1,\n",
       " -1,\n",
       " -1,\n",
       " 7,\n",
       " -1,\n",
       " -1,\n",
       " -1,\n",
       " -1,\n",
       " -1,\n",
       " -1,\n",
       " -1,\n",
       " -1,\n",
       " -1,\n",
       " -1,\n",
       " -1,\n",
       " -1,\n",
       " -1,\n",
       " -1,\n",
       " -1,\n",
       " -1,\n",
       " -1,\n",
       " -1,\n",
       " -1,\n",
       " -1,\n",
       " -1,\n",
       " -1,\n",
       " -1,\n",
       " -1,\n",
       " -1,\n",
       " -1,\n",
       " -1,\n",
       " -1,\n",
       " -1,\n",
       " -1,\n",
       " -1,\n",
       " -1,\n",
       " -1,\n",
       " -1,\n",
       " -1,\n",
       " -1,\n",
       " -1,\n",
       " -1,\n",
       " -1,\n",
       " -1,\n",
       " -1,\n",
       " -1,\n",
       " -1,\n",
       " -1,\n",
       " -1,\n",
       " -1,\n",
       " -1,\n",
       " -1,\n",
       " -1,\n",
       " -1,\n",
       " -1,\n",
       " -1,\n",
       " -1,\n",
       " -1,\n",
       " -1,\n",
       " -1,\n",
       " -1,\n",
       " -1,\n",
       " -1,\n",
       " -1,\n",
       " -1,\n",
       " -1,\n",
       " -1,\n",
       " -1,\n",
       " -1,\n",
       " -1,\n",
       " -1,\n",
       " -1,\n",
       " -1,\n",
       " -1,\n",
       " -1,\n",
       " -1,\n",
       " -1,\n",
       " -1,\n",
       " -1,\n",
       " -1,\n",
       " -1,\n",
       " -1,\n",
       " -1,\n",
       " -1,\n",
       " -1,\n",
       " -1,\n",
       " -1,\n",
       " -1,\n",
       " -1,\n",
       " -1,\n",
       " -1,\n",
       " -1,\n",
       " -1,\n",
       " -1,\n",
       " -1,\n",
       " -1,\n",
       " -1,\n",
       " -1,\n",
       " -1,\n",
       " -1,\n",
       " -1,\n",
       " -1,\n",
       " -1,\n",
       " -1,\n",
       " -1,\n",
       " -1,\n",
       " -1,\n",
       " -1,\n",
       " -1,\n",
       " -1,\n",
       " -1,\n",
       " -1,\n",
       " -1,\n",
       " -1,\n",
       " -1,\n",
       " -1,\n",
       " -1,\n",
       " -1,\n",
       " -1,\n",
       " -1,\n",
       " -1,\n",
       " -1,\n",
       " -1,\n",
       " -1,\n",
       " -1,\n",
       " -1,\n",
       " -1,\n",
       " -1,\n",
       " -1,\n",
       " -1,\n",
       " -1,\n",
       " -1,\n",
       " -1,\n",
       " -1,\n",
       " -1,\n",
       " -1,\n",
       " -1,\n",
       " -1,\n",
       " -1,\n",
       " -1,\n",
       " -1,\n",
       " -1,\n",
       " -1,\n",
       " -1,\n",
       " -1,\n",
       " -1,\n",
       " -1,\n",
       " -1,\n",
       " -1,\n",
       " -1,\n",
       " -1,\n",
       " -1,\n",
       " -1,\n",
       " -1,\n",
       " -1,\n",
       " -1,\n",
       " -1,\n",
       " -1,\n",
       " -1,\n",
       " -1,\n",
       " -1,\n",
       " -1,\n",
       " -1,\n",
       " -1,\n",
       " -1,\n",
       " -1,\n",
       " -1,\n",
       " -1,\n",
       " -1,\n",
       " -1,\n",
       " -1,\n",
       " -1,\n",
       " -1,\n",
       " -1,\n",
       " -1,\n",
       " -1,\n",
       " -1,\n",
       " -1,\n",
       " -1,\n",
       " -1,\n",
       " -1,\n",
       " -1,\n",
       " -1,\n",
       " -1,\n",
       " -1,\n",
       " -1,\n",
       " -1,\n",
       " -1,\n",
       " -1,\n",
       " -1,\n",
       " -1,\n",
       " -1,\n",
       " -1,\n",
       " -1,\n",
       " -1,\n",
       " -1,\n",
       " -1,\n",
       " -1,\n",
       " -1,\n",
       " -1,\n",
       " -1,\n",
       " -1,\n",
       " -1,\n",
       " -1,\n",
       " -1,\n",
       " -1,\n",
       " -1,\n",
       " -1,\n",
       " -1,\n",
       " -1,\n",
       " -1,\n",
       " -1,\n",
       " -1,\n",
       " -1,\n",
       " -1,\n",
       " -1,\n",
       " -1,\n",
       " -1,\n",
       " -1,\n",
       " -1,\n",
       " -1,\n",
       " -1,\n",
       " -1,\n",
       " -1,\n",
       " -1,\n",
       " -1,\n",
       " -1,\n",
       " -1,\n",
       " -1,\n",
       " -1,\n",
       " -1,\n",
       " -1,\n",
       " -1,\n",
       " -1,\n",
       " -1,\n",
       " -1,\n",
       " -1,\n",
       " -1,\n",
       " -1,\n",
       " -1,\n",
       " -1,\n",
       " -1,\n",
       " -1,\n",
       " 7,\n",
       " -1,\n",
       " -1,\n",
       " -1,\n",
       " -1,\n",
       " -1,\n",
       " -1,\n",
       " -1,\n",
       " -1,\n",
       " 7,\n",
       " -1,\n",
       " -1,\n",
       " -1,\n",
       " -1,\n",
       " -1,\n",
       " -1,\n",
       " -1,\n",
       " 7,\n",
       " -1,\n",
       " -1,\n",
       " -1,\n",
       " -1,\n",
       " -1,\n",
       " -1,\n",
       " -1,\n",
       " -1,\n",
       " -1,\n",
       " 7,\n",
       " -1,\n",
       " -1,\n",
       " -1,\n",
       " -1,\n",
       " -1,\n",
       " -1,\n",
       " -1,\n",
       " -1,\n",
       " -1,\n",
       " -1,\n",
       " -1,\n",
       " 7,\n",
       " -1,\n",
       " -1,\n",
       " -1,\n",
       " -1,\n",
       " -1,\n",
       " -1,\n",
       " -1,\n",
       " -1,\n",
       " -1,\n",
       " -1,\n",
       " -1,\n",
       " -1,\n",
       " -1,\n",
       " -1,\n",
       " -1,\n",
       " -1,\n",
       " -1,\n",
       " -1,\n",
       " -1,\n",
       " -1,\n",
       " -1,\n",
       " -1,\n",
       " -1,\n",
       " -1,\n",
       " -1,\n",
       " -1,\n",
       " -1,\n",
       " -1,\n",
       " -1,\n",
       " -1,\n",
       " -1,\n",
       " -1,\n",
       " -1,\n",
       " -1,\n",
       " -1,\n",
       " -1,\n",
       " -1,\n",
       " -1,\n",
       " -1,\n",
       " -1,\n",
       " -1,\n",
       " -1,\n",
       " -1,\n",
       " -1,\n",
       " -1,\n",
       " -1,\n",
       " -1,\n",
       " -1,\n",
       " -1,\n",
       " -1,\n",
       " -1,\n",
       " -1,\n",
       " -1,\n",
       " -1,\n",
       " -1,\n",
       " -1,\n",
       " -1,\n",
       " -1,\n",
       " -1,\n",
       " -1,\n",
       " -1,\n",
       " -1,\n",
       " -1,\n",
       " -1,\n",
       " -1,\n",
       " -1,\n",
       " -1,\n",
       " -1,\n",
       " -1,\n",
       " -1,\n",
       " -1,\n",
       " -1,\n",
       " -1,\n",
       " -1,\n",
       " -1,\n",
       " -1,\n",
       " -1,\n",
       " -1,\n",
       " -1,\n",
       " -1,\n",
       " -1,\n",
       " -1,\n",
       " -1,\n",
       " -1,\n",
       " -1,\n",
       " -1,\n",
       " -1,\n",
       " 7,\n",
       " -1,\n",
       " -1,\n",
       " -1,\n",
       " -1,\n",
       " -1,\n",
       " -1,\n",
       " -1,\n",
       " -1,\n",
       " -1,\n",
       " 7,\n",
       " -1,\n",
       " -1,\n",
       " -1,\n",
       " -1,\n",
       " -1,\n",
       " -1,\n",
       " -1,\n",
       " -1,\n",
       " 7,\n",
       " -1,\n",
       " -1,\n",
       " -1,\n",
       " -1,\n",
       " -1,\n",
       " -1,\n",
       " -1,\n",
       " -1,\n",
       " -1,\n",
       " -1,\n",
       " -1,\n",
       " -1,\n",
       " 7,\n",
       " -1,\n",
       " -1,\n",
       " -1,\n",
       " -1,\n",
       " -1,\n",
       " -1,\n",
       " -1,\n",
       " -1,\n",
       " 7,\n",
       " -1,\n",
       " -1,\n",
       " -1,\n",
       " -1,\n",
       " -1,\n",
       " -1,\n",
       " -1,\n",
       " -1,\n",
       " -1,\n",
       " -1,\n",
       " -1,\n",
       " -1,\n",
       " -1,\n",
       " -1,\n",
       " -1,\n",
       " -1,\n",
       " -1,\n",
       " -1,\n",
       " -1,\n",
       " -1,\n",
       " -1,\n",
       " -1,\n",
       " -1,\n",
       " -1,\n",
       " -1,\n",
       " 7,\n",
       " -1,\n",
       " -1,\n",
       " -1,\n",
       " -1,\n",
       " -1,\n",
       " -1,\n",
       " -1,\n",
       " 7,\n",
       " -1,\n",
       " -1,\n",
       " -1,\n",
       " -1,\n",
       " -1,\n",
       " -1,\n",
       " -1,\n",
       " -1,\n",
       " 7,\n",
       " -1,\n",
       " -1,\n",
       " -1,\n",
       " -1,\n",
       " -1,\n",
       " -1,\n",
       " -1,\n",
       " -1,\n",
       " -1,\n",
       " -1,\n",
       " -1,\n",
       " -1,\n",
       " -1,\n",
       " -1,\n",
       " -1,\n",
       " -1,\n",
       " -1,\n",
       " -1,\n",
       " -1,\n",
       " -1,\n",
       " -1,\n",
       " -1,\n",
       " -1,\n",
       " -1,\n",
       " -1,\n",
       " -1,\n",
       " -1,\n",
       " -1]"
      ]
     },
     "execution_count": 8,
     "metadata": {},
     "output_type": "execute_result"
    }
   ],
   "source": [
    "d = []\n",
    "for i in FileasList:\n",
    "    d.append(i.find('NA'))\n",
    "d"
   ]
  },
  {
   "cell_type": "code",
   "execution_count": 9,
   "id": "b7ec35fe",
   "metadata": {},
   "outputs": [
    {
     "data": {
      "text/plain": [
       "[0,\n",
       " 19,\n",
       " 30,\n",
       " 32,\n",
       " 34,\n",
       " 39,\n",
       " 45,\n",
       " 52,\n",
       " 59,\n",
       " 66,\n",
       " 74,\n",
       " 80,\n",
       " 108,\n",
       " 120,\n",
       " 132,\n",
       " 140,\n",
       " 143,\n",
       " 144,\n",
       " 146,\n",
       " 147,\n",
       " 151,\n",
       " 164,\n",
       " 177,\n",
       " 179,\n",
       " 181,\n",
       " 190,\n",
       " 201,\n",
       " 221,\n",
       " 241,\n",
       " 249,\n",
       " 251,\n",
       " 259,\n",
       " 267,\n",
       " 276,\n",
       " 285,\n",
       " 294,\n",
       " 302,\n",
       " 312,\n",
       " 314,\n",
       " 324,\n",
       " 326,\n",
       " 328,\n",
       " 330,\n",
       " 339,\n",
       " 347,\n",
       " 352,\n",
       " 360,\n",
       " 362,\n",
       " 364,\n",
       " 366,\n",
       " 368,\n",
       " 370,\n",
       " 372,\n",
       " 374,\n",
       " 376,\n",
       " 378,\n",
       " 380,\n",
       " 388,\n",
       " 390,\n",
       " 401,\n",
       " 403,\n",
       " 412,\n",
       " 422,\n",
       " 424,\n",
       " 431,\n",
       " 433,\n",
       " 435,\n",
       " 444,\n",
       " 453,\n",
       " 459,\n",
       " 461,\n",
       " 463,\n",
       " 465,\n",
       " 467,\n",
       " 469,\n",
       " 471,\n",
       " 479,\n",
       " 487,\n",
       " 496,\n",
       " 498,\n",
       " 500,\n",
       " 502,\n",
       " 515]"
      ]
     },
     "execution_count": 9,
     "metadata": {},
     "output_type": "execute_result"
    }
   ],
   "source": [
    "VarList = []\n",
    "for i in range(len(FileasList)):\n",
    "    if FileasList[i].find(':')>0:\n",
    "        VarList.append(i)\n",
    "VarList"
   ]
  },
  {
   "cell_type": "code",
   "execution_count": 10,
   "id": "19174c32",
   "metadata": {},
   "outputs": [],
   "source": [
    "naindex = []\n",
    "for i in range(len(FileasList)):\n",
    "    if d[i]>0 :\n",
    "        naindex.append(i)"
   ]
  },
  {
   "cell_type": "code",
   "execution_count": 11,
   "id": "86ac06ff",
   "metadata": {},
   "outputs": [
    {
     "data": {
      "text/plain": [
       "[43, 283, 292, 300, 310, 322, 410, 420, 429, 442, 451, 477, 485, 494]"
      ]
     },
     "execution_count": 11,
     "metadata": {},
     "output_type": "execute_result"
    }
   ],
   "source": [
    "naindex"
   ]
  },
  {
   "cell_type": "code",
   "execution_count": 12,
   "id": "6ed6d7df",
   "metadata": {},
   "outputs": [
    {
     "data": {
      "text/plain": [
       "'       NA \\tNo alley access\\n'"
      ]
     },
     "execution_count": 12,
     "metadata": {},
     "output_type": "execute_result"
    }
   ],
   "source": [
    "FileasList[43]"
   ]
  },
  {
   "cell_type": "code",
   "execution_count": 13,
   "id": "3cad7a5a",
   "metadata": {},
   "outputs": [
    {
     "data": {
      "text/plain": [
       "[39, 276, 285, 294, 302, 314, 403, 412, 424, 435, 444, 471, 479, 487]"
      ]
     },
     "execution_count": 13,
     "metadata": {},
     "output_type": "execute_result"
    }
   ],
   "source": [
    "lst2 = []\n",
    "for i in range(len(naindex)):\n",
    "    lower = min([ j for j in VarList if j < naindex[i]], key=lambda x:abs(x-naindex[i]))\n",
    "    lst2.append(lower)\n",
    "lst2"
   ]
  },
  {
   "cell_type": "code",
   "execution_count": 14,
   "id": "b25c2e6c",
   "metadata": {},
   "outputs": [
    {
     "data": {
      "text/plain": [
       "['Alley: Type of alley access to property\\n',\n",
       " 'BsmtQual: Evaluates the height of the basement\\n',\n",
       " 'BsmtCond: Evaluates the general condition of the basement\\n',\n",
       " 'BsmtExposure: Refers to walkout or garden level walls\\n',\n",
       " 'BsmtFinType1: Rating of basement finished area\\n',\n",
       " 'BsmtFinType2: Rating of basement finished area (if multiple types)\\n',\n",
       " 'FireplaceQu: Fireplace quality\\n',\n",
       " 'GarageType: Garage location\\n',\n",
       " 'GarageFinish: Interior finish of the garage\\n',\n",
       " 'GarageQual: Garage quality\\n',\n",
       " 'GarageCond: Garage condition\\n',\n",
       " 'PoolQC: Pool quality\\n',\n",
       " 'Fence: Fence quality\\n',\n",
       " 'MiscFeature: Miscellaneous feature not covered in other categories\\n']"
      ]
     },
     "execution_count": 14,
     "metadata": {},
     "output_type": "execute_result"
    }
   ],
   "source": [
    "lst2_name = [FileasList[i] for i in lst2]\n",
    "lst2_name"
   ]
  },
  {
   "cell_type": "code",
   "execution_count": 15,
   "id": "3bcdee7c",
   "metadata": {},
   "outputs": [],
   "source": [
    "varNA = []\n",
    "for i in range(len(FileasList)):\n",
    "    if i in lst2:\n",
    "        x = FileasList[i].find(':')\n",
    "        y = FileasList[i][0:x]\n",
    "        varNA.append(y)"
   ]
  },
  {
   "cell_type": "markdown",
   "id": "21f1a7fa",
   "metadata": {},
   "source": [
    "Below are Variables which contain NA Values"
   ]
  },
  {
   "cell_type": "code",
   "execution_count": 16,
   "id": "8200d5d6",
   "metadata": {},
   "outputs": [
    {
     "data": {
      "text/plain": [
       "['Alley',\n",
       " 'BsmtQual',\n",
       " 'BsmtCond',\n",
       " 'BsmtExposure',\n",
       " 'BsmtFinType1',\n",
       " 'BsmtFinType2',\n",
       " 'FireplaceQu',\n",
       " 'GarageType',\n",
       " 'GarageFinish',\n",
       " 'GarageQual',\n",
       " 'GarageCond',\n",
       " 'PoolQC',\n",
       " 'Fence',\n",
       " 'MiscFeature']"
      ]
     },
     "execution_count": 16,
     "metadata": {},
     "output_type": "execute_result"
    }
   ],
   "source": [
    "varNA"
   ]
  },
  {
   "cell_type": "markdown",
   "id": "dd2fff86",
   "metadata": {},
   "source": [
    "Filling above variables with 'None' values"
   ]
  },
  {
   "cell_type": "code",
   "execution_count": 17,
   "id": "ba09cd74",
   "metadata": {},
   "outputs": [],
   "source": [
    "for i in varNA:\n",
    "    trd[i]=trd[i].fillna(\"None\")\n",
    "    tsd[i]=tsd[i].fillna(\"None\")"
   ]
  },
  {
   "cell_type": "markdown",
   "id": "9adc63a5",
   "metadata": {},
   "source": [
    "Using Replacer function on testing and training set"
   ]
  },
  {
   "cell_type": "code",
   "execution_count": 18,
   "id": "2edad836",
   "metadata": {},
   "outputs": [
    {
     "name": "stdout",
     "output_type": "stream",
     "text": [
      "importing Jupyter notebook from PM3.ipynb\n",
      "Missing Values replaced in DataFrame\n",
      "Missing Values replaced in DataFrame\n"
     ]
    }
   ],
   "source": [
    "import import_ipynb\n",
    "from PM3 import replacer\n",
    "replacer(trd)\n",
    "replacer(tsd)"
   ]
  },
  {
   "cell_type": "code",
   "execution_count": 19,
   "id": "5951c31c",
   "metadata": {},
   "outputs": [
    {
     "data": {
      "text/plain": [
       "Id               0\n",
       "MSSubClass       0\n",
       "MSZoning         0\n",
       "LotFrontage      0\n",
       "LotArea          0\n",
       "                ..\n",
       "MoSold           0\n",
       "YrSold           0\n",
       "SaleType         0\n",
       "SaleCondition    0\n",
       "SalePrice        0\n",
       "Length: 81, dtype: int64"
      ]
     },
     "execution_count": 19,
     "metadata": {},
     "output_type": "execute_result"
    }
   ],
   "source": [
    "trd.isna().sum()"
   ]
  },
  {
   "cell_type": "code",
   "execution_count": 20,
   "id": "3ed4a848",
   "metadata": {},
   "outputs": [
    {
     "data": {
      "text/plain": [
       "Id               0\n",
       "MSSubClass       0\n",
       "MSZoning         0\n",
       "LotFrontage      0\n",
       "LotArea          0\n",
       "                ..\n",
       "MiscVal          0\n",
       "MoSold           0\n",
       "YrSold           0\n",
       "SaleType         0\n",
       "SaleCondition    0\n",
       "Length: 80, dtype: int64"
      ]
     },
     "execution_count": 20,
     "metadata": {},
     "output_type": "execute_result"
    }
   ],
   "source": [
    "tsd.isna().sum()"
   ]
  },
  {
   "cell_type": "markdown",
   "id": "58c21af3",
   "metadata": {},
   "source": [
    "# Step 4: Checking for outliers"
   ]
  },
  {
   "cell_type": "code",
   "execution_count": 21,
   "id": "640045b1",
   "metadata": {},
   "outputs": [
    {
     "name": "stdout",
     "output_type": "stream",
     "text": [
      "Categorical and Continuous variables appended\n"
     ]
    }
   ],
   "source": [
    "from PM3 import catcon\n",
    "cat, con = catcon(trd)"
   ]
  },
  {
   "cell_type": "markdown",
   "id": "e2faae02",
   "metadata": {},
   "source": [
    "Dropping from training set"
   ]
  },
  {
   "cell_type": "code",
   "execution_count": 22,
   "id": "72a04b26",
   "metadata": {},
   "outputs": [],
   "source": [
    "from sklearn.preprocessing import StandardScaler\n",
    "ss = StandardScaler()\n",
    "X1 = pd.DataFrame(ss.fit_transform(trd[con]),columns=con)"
   ]
  },
  {
   "cell_type": "code",
   "execution_count": 23,
   "id": "2fbd3825",
   "metadata": {},
   "outputs": [],
   "source": [
    "outliers = []\n",
    "for i in con:\n",
    "    outliers.extend(list(X1[(X1[i]>3)|(X1[i]<-3)].index))\n",
    "    \n",
    "from numpy import unique\n",
    "outliers = unique(outliers)"
   ]
  },
  {
   "cell_type": "code",
   "execution_count": 24,
   "id": "595aa0a8",
   "metadata": {},
   "outputs": [],
   "source": [
    "trd = trd.drop(index=outliers,axis=0)\n",
    "trd.index = range(0,trd.shape[0])"
   ]
  },
  {
   "cell_type": "markdown",
   "id": "5a3c787c",
   "metadata": {},
   "source": [
    "Dropping Outliers from testing set"
   ]
  },
  {
   "cell_type": "code",
   "execution_count": 25,
   "id": "bedbf87f",
   "metadata": {},
   "outputs": [],
   "source": [
    "from sklearn.preprocessing import StandardScaler\n",
    "ss = StandardScaler()\n",
    "con.remove(\"SalePrice\")\n",
    "X1 = pd.DataFrame(ss.fit_transform(tsd[con]),columns=con)\n",
    "\n",
    "outliers = []\n",
    "for i in con:\n",
    "    outliers.extend(list(X1[(X1[i]>3)|(X1[i]<-3)].index))\n",
    "    \n",
    "from numpy import unique\n",
    "outliers = unique(outliers)\n",
    "\n",
    "tsd = tsd.drop(index=outliers,axis=0)\n",
    "tsd.index = range(0,tsd.shape[0])"
   ]
  },
  {
   "cell_type": "markdown",
   "id": "62460ae9",
   "metadata": {},
   "source": [
    "# Step 5: Exploratory Data Analysis "
   ]
  },
  {
   "cell_type": "code",
   "execution_count": 26,
   "id": "a11199e5",
   "metadata": {},
   "outputs": [],
   "source": [
    "Y = trd[[\"SalePrice\"]]\n",
    "X = trd.drop(labels=[\"Id\",\"SalePrice\"],axis=1)"
   ]
  },
  {
   "cell_type": "code",
   "execution_count": 27,
   "id": "88790200",
   "metadata": {},
   "outputs": [
    {
     "name": "stdout",
     "output_type": "stream",
     "text": [
      "Categorical and Continuous variables appended\n"
     ]
    }
   ],
   "source": [
    "cat, con = catcon(X)"
   ]
  },
  {
   "cell_type": "code",
   "execution_count": 28,
   "id": "eebcb511",
   "metadata": {},
   "outputs": [],
   "source": [
    "Q = trd.corr()[[\"SalePrice\"]].sort_values(by=\"SalePrice\")\n",
    "Q1 = list(Q[Q.SalePrice>0.2].index)"
   ]
  },
  {
   "cell_type": "code",
   "execution_count": 29,
   "id": "cf1890dd",
   "metadata": {},
   "outputs": [],
   "source": [
    "imp_con_cols = Q1[0:len(Q1)-1]"
   ]
  },
  {
   "cell_type": "code",
   "execution_count": 30,
   "id": "25f23557",
   "metadata": {},
   "outputs": [],
   "source": [
    "from PM3 import ANOVA\n",
    "imp_cat = []\n",
    "for i in cat:\n",
    "    q = ANOVA(trd,i,\"SalePrice\")\n",
    "    if(q<0.05):\n",
    "        imp_cat.append(i)"
   ]
  },
  {
   "cell_type": "code",
   "execution_count": 31,
   "id": "add0a332",
   "metadata": {},
   "outputs": [
    {
     "data": {
      "text/plain": [
       "['MSZoning',\n",
       " 'Alley',\n",
       " 'LotShape',\n",
       " 'LandContour',\n",
       " 'LotConfig',\n",
       " 'Neighborhood',\n",
       " 'Condition1',\n",
       " 'BldgType',\n",
       " 'HouseStyle',\n",
       " 'RoofStyle',\n",
       " 'Exterior1st',\n",
       " 'Exterior2nd',\n",
       " 'MasVnrType',\n",
       " 'ExterQual',\n",
       " 'ExterCond',\n",
       " 'Foundation',\n",
       " 'BsmtQual',\n",
       " 'BsmtCond',\n",
       " 'BsmtExposure',\n",
       " 'BsmtFinType1',\n",
       " 'BsmtFinType2',\n",
       " 'Heating',\n",
       " 'HeatingQC',\n",
       " 'CentralAir',\n",
       " 'Electrical',\n",
       " 'KitchenQual',\n",
       " 'Functional',\n",
       " 'FireplaceQu',\n",
       " 'GarageType',\n",
       " 'GarageFinish',\n",
       " 'GarageQual',\n",
       " 'GarageCond',\n",
       " 'PavedDrive',\n",
       " 'Fence',\n",
       " 'MiscFeature',\n",
       " 'SaleType',\n",
       " 'SaleCondition']"
      ]
     },
     "execution_count": 31,
     "metadata": {},
     "output_type": "execute_result"
    }
   ],
   "source": [
    "imp_cat"
   ]
  },
  {
   "cell_type": "markdown",
   "id": "f42375cb",
   "metadata": {},
   "source": [
    "# Step 6: Preprocessing "
   ]
  },
  {
   "cell_type": "code",
   "execution_count": 32,
   "id": "c8ab264f",
   "metadata": {},
   "outputs": [],
   "source": [
    "ss = StandardScaler()\n",
    "X1 = pd.DataFrame(ss.fit_transform(trd[imp_con_cols]),columns=imp_con_cols)\n",
    "X2 = pd.get_dummies(trd[imp_cat])\n",
    "Xnew = X1.join(X2)"
   ]
  },
  {
   "cell_type": "code",
   "execution_count": 33,
   "id": "c560f881",
   "metadata": {},
   "outputs": [
    {
     "data": {
      "text/plain": [
       "(1015, 246)"
      ]
     },
     "execution_count": 33,
     "metadata": {},
     "output_type": "execute_result"
    }
   ],
   "source": [
    "Xnew.shape"
   ]
  },
  {
   "cell_type": "code",
   "execution_count": 34,
   "id": "07113787",
   "metadata": {},
   "outputs": [
    {
     "data": {
      "text/plain": [
       "(1015, 1)"
      ]
     },
     "execution_count": 34,
     "metadata": {},
     "output_type": "execute_result"
    }
   ],
   "source": [
    "Y.shape"
   ]
  },
  {
   "cell_type": "markdown",
   "id": "3fafc3c7",
   "metadata": {},
   "source": [
    "# Step 7: Train Test Split"
   ]
  },
  {
   "cell_type": "code",
   "execution_count": 35,
   "id": "3909e5b0",
   "metadata": {},
   "outputs": [],
   "source": [
    "from sklearn.model_selection import train_test_split\n",
    "xtrain,xtest,ytrain,ytest=train_test_split(Xnew,Y,test_size=0.2,random_state=31)"
   ]
  },
  {
   "cell_type": "markdown",
   "id": "05ab5341",
   "metadata": {},
   "source": [
    "# Step 8: Statsmodel for Backward Elimination"
   ]
  },
  {
   "cell_type": "code",
   "execution_count": 36,
   "id": "5061e10d",
   "metadata": {},
   "outputs": [
    {
     "name": "stdout",
     "output_type": "stream",
     "text": [
      "0.9295 \n",
      "\n",
      "\n",
      "SaleType_Con\n"
     ]
    }
   ],
   "source": [
    "from statsmodels.api import OLS,add_constant\n",
    "xconst = add_constant(xtrain)\n",
    "ols = OLS(ytrain,xconst)\n",
    "model = ols.fit()\n",
    "print(round(model.rsquared_adj,4),\"\\n\\n\")\n",
    "col_to_drop = model.pvalues.sort_values().index[-1]\n",
    "print(col_to_drop)"
   ]
  },
  {
   "cell_type": "code",
   "execution_count": 37,
   "id": "74738583",
   "metadata": {},
   "outputs": [],
   "source": [
    "rsq = []\n",
    "dropped_columns = []\n",
    "Q = range(1,124)\n",
    "for i in Q:\n",
    "    Xnew = Xnew.drop(labels=col_to_drop,axis=1)\n",
    "    xtrain,xtest,ytrain,ytest=train_test_split(Xnew,Y,test_size=0.2,random_state=31)\n",
    "    xconst = add_constant(xtrain)\n",
    "    ols = OLS(ytrain,xconst)\n",
    "    model = ols.fit()\n",
    "    rsq.append(round(model.rsquared_adj,4))\n",
    "    dropped_columns.append(col_to_drop)\n",
    "    col_to_drop = model.pvalues.sort_values().index[-1]\n",
    "    if col_to_drop == 'const':\n",
    "        col_to_drop = model.pvalues.sort_values().index[-2]"
   ]
  },
  {
   "cell_type": "code",
   "execution_count": 38,
   "id": "2aa97542",
   "metadata": {},
   "outputs": [
    {
     "data": {
      "text/plain": [
       "[<matplotlib.lines.Line2D at 0x25a1cc806d0>]"
      ]
     },
     "execution_count": 38,
     "metadata": {},
     "output_type": "execute_result"
    },
    {
     "data": {
      "image/png": "[encoded data removed]",
      "text/plain": [
       "<Figure size 432x288 with 1 Axes>"
      ]
     },
     "metadata": {
      "needs_background": "light"
     },
     "output_type": "display_data"
    }
   ],
   "source": [
    "import matplotlib.pyplot as plt\n",
    "plt.plot(Q,rsq)"
   ]
  },
  {
   "cell_type": "code",
   "execution_count": 39,
   "id": "8314d410",
   "metadata": {},
   "outputs": [
    {
     "data": {
      "text/plain": [
       "0.9341"
      ]
     },
     "execution_count": 39,
     "metadata": {},
     "output_type": "execute_result"
    }
   ],
   "source": [
    "r = max(rsq)\n",
    "r"
   ]
  },
  {
   "cell_type": "markdown",
   "id": "524abb59",
   "metadata": {},
   "source": [
    "# Creating a Linear Model "
   ]
  },
  {
   "cell_type": "code",
   "execution_count": 41,
   "id": "e9ddd79c",
   "metadata": {},
   "outputs": [],
   "source": [
    "from sklearn.linear_model import LinearRegression\n",
    "lm = LinearRegression()\n",
    "model = lm.fit(xtrain,ytrain)\n",
    "pred_tr = model.predict(xtrain)\n",
    "pred_ts = model.predict(xtest)\n",
    "from sklearn.metrics import mean_squared_error\n",
    "tr_err = mean_squared_error(ytrain,pred_tr)\n",
    "ts_err = mean_squared_error(ytest,pred_ts)"
   ]
  },
  {
   "cell_type": "code",
   "execution_count": 42,
   "id": "7c218500",
   "metadata": {},
   "outputs": [
    {
     "data": {
      "text/plain": [
       "246934892.76231527"
      ]
     },
     "execution_count": 42,
     "metadata": {},
     "output_type": "execute_result"
    }
   ],
   "source": [
    "tr_err"
   ]
  },
  {
   "cell_type": "code",
   "execution_count": 43,
   "id": "cf603edf",
   "metadata": {},
   "outputs": [
    {
     "data": {
      "text/plain": [
       "2.9245876538672363e+31"
      ]
     },
     "execution_count": 43,
     "metadata": {},
     "output_type": "execute_result"
    }
   ],
   "source": [
    "ts_err"
   ]
  },
  {
   "cell_type": "markdown",
   "id": "6c3c569b",
   "metadata": {},
   "source": [
    "# Step 9: Regularisation "
   ]
  },
  {
   "cell_type": "code",
   "execution_count": 44,
   "id": "02a7ead7",
   "metadata": {},
   "outputs": [],
   "source": [
    "lambdas = []\n",
    "q = 0.00\n",
    "for i in range(0,1000):\n",
    "    q = round(q + 0.01,2)\n",
    "    lambdas.append(q)"
   ]
  },
  {
   "cell_type": "code",
   "execution_count": 47,
   "id": "09d1211d",
   "metadata": {},
   "outputs": [
    {
     "name": "stdout",
     "output_type": "stream",
     "text": [
      "Optimum value of alpha is: 4.04\n"
     ]
    }
   ],
   "source": [
    "tr = []\n",
    "ts = []\n",
    "ge = []\n",
    "counter = 0\n",
    "for i in lambdas:\n",
    "    from sklearn.linear_model import Ridge\n",
    "    rr = Ridge(alpha=i)\n",
    "    model = rr.fit(xtrain,ytrain)\n",
    "    pred_tr = model.predict(xtrain)\n",
    "    pred_ts = model.predict(xtest)\n",
    "    from sklearn.metrics import mean_squared_error\n",
    "    tr_err = mean_squared_error(ytrain,pred_tr)\n",
    "    ts_err = mean_squared_error(ytest,pred_ts)\n",
    "    tr.append(tr_err)\n",
    "    ts.append(ts_err)\n",
    "    ge.append(ts_err-tr_err)\n",
    "    if (counter>= 1) and (ge[counter-1]>0 and ge[counter]<0):\n",
    "        print('Optimum value of alpha is:',i)\n",
    "    counter = counter+1"
   ]
  },
  {
   "cell_type": "code",
   "execution_count": 48,
   "id": "d85a8dd4",
   "metadata": {},
   "outputs": [
    {
     "data": {
      "text/plain": [
       "[<matplotlib.lines.Line2D at 0x25a23eebe50>]"
      ]
     },
     "execution_count": 48,
     "metadata": {},
     "output_type": "execute_result"
    },
    {
     "data": {
      "image/png": "[encoded data removed]",
      "text/plain": [
       "<Figure size 432x288 with 1 Axes>"
      ]
     },
     "metadata": {
      "needs_background": "light"
     },
     "output_type": "display_data"
    }
   ],
   "source": [
    "plt.plot(lambdas,tr,c=\"blue\")\n",
    "plt.plot(lambdas,ts,c=\"red\")"
   ]
  },
  {
   "cell_type": "code",
   "execution_count": 77,
   "id": "db266fab",
   "metadata": {},
   "outputs": [
    {
     "name": "stdout",
     "output_type": "stream",
     "text": [
      "Training Error:  264675313.1304095\n",
      "Testing Error:  264675312.94309208\n",
      "Generelisation Error:  -0.18731743097305298\n"
     ]
    }
   ],
   "source": [
    "from sklearn.linear_model import Ridge\n",
    "rr = Ridge(alpha=4.0383146)\n",
    "model = rr.fit(xtrain,ytrain)\n",
    "pred_tr = model.predict(xtrain)\n",
    "pred_ts = model.predict(xtest)\n",
    "from sklearn.metrics import mean_squared_error\n",
    "tr_err = mean_squared_error(ytrain,pred_tr)\n",
    "ts_err = mean_squared_error(ytest,pred_ts)\n",
    "print(\"Training Error: \",tr_err)\n",
    "print(\"Testing Error: \",ts_err)\n",
    "print(\"Generelisation Error: \",ts_err-tr_err)"
   ]
  },
  {
   "cell_type": "markdown",
   "id": "12c759a5",
   "metadata": {},
   "source": [
    "# Cross Validation"
   ]
  },
  {
   "cell_type": "code",
   "execution_count": 78,
   "id": "04a4b21e",
   "metadata": {},
   "outputs": [
    {
     "data": {
      "text/plain": [
       "{'alpha': 0.34}"
      ]
     },
     "execution_count": 78,
     "metadata": {},
     "output_type": "execute_result"
    }
   ],
   "source": [
    "tuning_grid = {\"alpha\":lambdas}\n",
    "rr = Ridge()\n",
    "from sklearn.model_selection import GridSearchCV\n",
    "cv = GridSearchCV(rr,tuning_grid,scoring=\"neg_mean_squared_error\",cv=20)\n",
    "cvmodel = cv.fit(Xnew,Y)\n",
    "cvmodel.best_params_"
   ]
  },
  {
   "cell_type": "markdown",
   "id": "247b41c9",
   "metadata": {},
   "source": [
    "# Creating Final Model"
   ]
  },
  {
   "cell_type": "code",
   "execution_count": 79,
   "id": "dbf49d51",
   "metadata": {},
   "outputs": [],
   "source": [
    "from sklearn.linear_model import Ridge\n",
    "rr = Ridge(alpha=0.34)\n",
    "model = rr.fit(Xnew,Y)"
   ]
  },
  {
   "cell_type": "markdown",
   "id": "e3ff6193",
   "metadata": {},
   "source": [
    "# Final Predcitions on test Data"
   ]
  },
  {
   "cell_type": "code",
   "execution_count": 80,
   "id": "e055ea57",
   "metadata": {},
   "outputs": [
    {
     "data": {
      "text/plain": [
       "(1015, 123)"
      ]
     },
     "execution_count": 80,
     "metadata": {},
     "output_type": "execute_result"
    }
   ],
   "source": [
    "Xnew.shape"
   ]
  },
  {
   "cell_type": "code",
   "execution_count": 81,
   "id": "609aee4e",
   "metadata": {},
   "outputs": [],
   "source": [
    "X1_test = pd.DataFrame(ss.transform(tsd[X1.columns]),columns=X1.columns)"
   ]
  },
  {
   "cell_type": "code",
   "execution_count": 82,
   "id": "217444de",
   "metadata": {},
   "outputs": [
    {
     "name": "stdout",
     "output_type": "stream",
     "text": [
      "Categorical and Continuous variables appended\n"
     ]
    }
   ],
   "source": [
    "cat,con = catcon(tsd)\n",
    "X2_prov = pd.get_dummies(tsd[cat])"
   ]
  },
  {
   "cell_type": "code",
   "execution_count": 85,
   "id": "8179f0c2",
   "metadata": {},
   "outputs": [
    {
     "data": {
      "text/plain": [
       "['GarageQual_Ex',\n",
       " 'Heating_Wall',\n",
       " 'Heating_Grav',\n",
       " 'Heating_Floor',\n",
       " 'Exterior1st_CBlock',\n",
       " 'Exterior2nd_Other',\n",
       " 'Exterior1st_ImStucc',\n",
       " 'Exterior2nd_Stone']"
      ]
     },
     "execution_count": 85,
     "metadata": {},
     "output_type": "execute_result"
    }
   ],
   "source": [
    "li = list(set(X2.columns)-set(X2_prov.columns))\n",
    "li"
   ]
  },
  {
   "cell_type": "code",
   "execution_count": 86,
   "id": "937b1aea",
   "metadata": {},
   "outputs": [],
   "source": [
    "for i in li:\n",
    "    X2_prov[i]=0"
   ]
  },
  {
   "cell_type": "code",
   "execution_count": 87,
   "id": "474360e6",
   "metadata": {},
   "outputs": [],
   "source": [
    "X2_final = X2_prov[X2.columns]"
   ]
  },
  {
   "cell_type": "code",
   "execution_count": 88,
   "id": "66edcc7c",
   "metadata": {},
   "outputs": [],
   "source": [
    "final_X = X1_test.join(X2_final)\n",
    "final_X = final_X[Xnew.columns]"
   ]
  },
  {
   "cell_type": "code",
   "execution_count": 89,
   "id": "2c1e7d0a",
   "metadata": {},
   "outputs": [
    {
     "data": {
      "text/plain": [
       "(1015, 123)"
      ]
     },
     "execution_count": 89,
     "metadata": {},
     "output_type": "execute_result"
    }
   ],
   "source": [
    "Xnew.shape"
   ]
  },
  {
   "cell_type": "code",
   "execution_count": 90,
   "id": "3710a5ad",
   "metadata": {},
   "outputs": [
    {
     "data": {
      "text/plain": [
       "(1019, 123)"
      ]
     },
     "execution_count": 90,
     "metadata": {},
     "output_type": "execute_result"
    }
   ],
   "source": [
    "final_X.shape"
   ]
  },
  {
   "cell_type": "markdown",
   "id": "3a5e3335",
   "metadata": {},
   "source": [
    "# Predicting Test values"
   ]
  },
  {
   "cell_type": "code",
   "execution_count": 91,
   "id": "5ca960c7",
   "metadata": {},
   "outputs": [],
   "source": [
    "Q = []\n",
    "\n",
    "for i in model.predict(final_X):\n",
    "    Q.append(round(i[0],2))"
   ]
  },
  {
   "cell_type": "code",
   "execution_count": 93,
   "id": "b83d00c2",
   "metadata": {},
   "outputs": [],
   "source": [
    "d = {'Id':tsd.Id,'Predicted_SalePrice':Q}\n",
    "df = pd.DataFrame(data=d)"
   ]
  },
  {
   "cell_type": "code",
   "execution_count": 94,
   "id": "c97c95d3",
   "metadata": {},
   "outputs": [
    {
     "data": {
      "text/html": [
       "<div>\n",
       "<style scoped>\n",
       "    .dataframe tbody tr th:only-of-type {\n",
       "        vertical-align: middle;\n",
       "    }\n",
       "\n",
       "    .dataframe tbody tr th {\n",
       "        vertical-align: top;\n",
       "    }\n",
       "\n",
       "    .dataframe thead th {\n",
       "        text-align: right;\n",
       "    }\n",
       "</style>\n",
       "<table border=\"1\" class=\"dataframe\">\n",
       "  <thead>\n",
       "    <tr style=\"text-align: right;\">\n",
       "      <th></th>\n",
       "      <th>Id</th>\n",
       "      <th>Predicted_SalePrice</th>\n",
       "    </tr>\n",
       "  </thead>\n",
       "  <tbody>\n",
       "    <tr>\n",
       "      <th>0</th>\n",
       "      <td>1461</td>\n",
       "      <td>121016.98</td>\n",
       "    </tr>\n",
       "    <tr>\n",
       "      <th>1</th>\n",
       "      <td>1463</td>\n",
       "      <td>194645.22</td>\n",
       "    </tr>\n",
       "    <tr>\n",
       "      <th>2</th>\n",
       "      <td>1464</td>\n",
       "      <td>198967.15</td>\n",
       "    </tr>\n",
       "    <tr>\n",
       "      <th>3</th>\n",
       "      <td>1465</td>\n",
       "      <td>194887.64</td>\n",
       "    </tr>\n",
       "    <tr>\n",
       "      <th>4</th>\n",
       "      <td>1466</td>\n",
       "      <td>175583.19</td>\n",
       "    </tr>\n",
       "    <tr>\n",
       "      <th>...</th>\n",
       "      <td>...</td>\n",
       "      <td>...</td>\n",
       "    </tr>\n",
       "    <tr>\n",
       "      <th>1014</th>\n",
       "      <td>2913</td>\n",
       "      <td>74977.29</td>\n",
       "    </tr>\n",
       "    <tr>\n",
       "      <th>1015</th>\n",
       "      <td>2914</td>\n",
       "      <td>71924.95</td>\n",
       "    </tr>\n",
       "    <tr>\n",
       "      <th>1016</th>\n",
       "      <td>2915</td>\n",
       "      <td>71204.74</td>\n",
       "    </tr>\n",
       "    <tr>\n",
       "      <th>1017</th>\n",
       "      <td>2916</td>\n",
       "      <td>79376.38</td>\n",
       "    </tr>\n",
       "    <tr>\n",
       "      <th>1018</th>\n",
       "      <td>2919</td>\n",
       "      <td>209671.05</td>\n",
       "    </tr>\n",
       "  </tbody>\n",
       "</table>\n",
       "<p>1019 rows × 2 columns</p>\n",
       "</div>"
      ],
      "text/plain": [
       "        Id  Predicted_SalePrice\n",
       "0     1461            121016.98\n",
       "1     1463            194645.22\n",
       "2     1464            198967.15\n",
       "3     1465            194887.64\n",
       "4     1466            175583.19\n",
       "...    ...                  ...\n",
       "1014  2913             74977.29\n",
       "1015  2914             71924.95\n",
       "1016  2915             71204.74\n",
       "1017  2916             79376.38\n",
       "1018  2919            209671.05\n",
       "\n",
       "[1019 rows x 2 columns]"
      ]
     },
     "execution_count": 94,
     "metadata": {},
     "output_type": "execute_result"
    }
   ],
   "source": [
    "df"
   ]
  },
  {
   "cell_type": "code",
   "execution_count": 95,
   "id": "adc343a8",
   "metadata": {},
   "outputs": [],
   "source": [
    "df.to_csv(\"D:\\Etlhive class data\\Project 100722\\Predictions.csv\")"
   ]
  },
  {
   "cell_type": "code",
   "execution_count": 98,
   "id": "77a5bc31",
   "metadata": {},
   "outputs": [
    {
     "data": {
      "text/html": [
       "<div>\n",
       "<style scoped>\n",
       "    .dataframe tbody tr th:only-of-type {\n",
       "        vertical-align: middle;\n",
       "    }\n",
       "\n",
       "    .dataframe tbody tr th {\n",
       "        vertical-align: top;\n",
       "    }\n",
       "\n",
       "    .dataframe thead th {\n",
       "        text-align: right;\n",
       "    }\n",
       "</style>\n",
       "<table border=\"1\" class=\"dataframe\">\n",
       "  <thead>\n",
       "    <tr style=\"text-align: right;\">\n",
       "      <th></th>\n",
       "      <th>Predicted_SalePrice</th>\n",
       "    </tr>\n",
       "  </thead>\n",
       "  <tbody>\n",
       "    <tr>\n",
       "      <th>count</th>\n",
       "      <td>1019.000000</td>\n",
       "    </tr>\n",
       "    <tr>\n",
       "      <th>mean</th>\n",
       "      <td>174205.847242</td>\n",
       "    </tr>\n",
       "    <tr>\n",
       "      <th>std</th>\n",
       "      <td>67223.020485</td>\n",
       "    </tr>\n",
       "    <tr>\n",
       "      <th>min</th>\n",
       "      <td>7754.340000</td>\n",
       "    </tr>\n",
       "    <tr>\n",
       "      <th>25%</th>\n",
       "      <td>126162.465000</td>\n",
       "    </tr>\n",
       "    <tr>\n",
       "      <th>50%</th>\n",
       "      <td>164002.440000</td>\n",
       "    </tr>\n",
       "    <tr>\n",
       "      <th>75%</th>\n",
       "      <td>209513.725000</td>\n",
       "    </tr>\n",
       "    <tr>\n",
       "      <th>max</th>\n",
       "      <td>411511.170000</td>\n",
       "    </tr>\n",
       "  </tbody>\n",
       "</table>\n",
       "</div>"
      ],
      "text/plain": [
       "       Predicted_SalePrice\n",
       "count          1019.000000\n",
       "mean         174205.847242\n",
       "std           67223.020485\n",
       "min            7754.340000\n",
       "25%          126162.465000\n",
       "50%          164002.440000\n",
       "75%          209513.725000\n",
       "max          411511.170000"
      ]
     },
     "execution_count": 98,
     "metadata": {},
     "output_type": "execute_result"
    }
   ],
   "source": [
    "df.describe()[['Predicted_SalePrice']]"
   ]
  },
  {
   "cell_type": "code",
   "execution_count": 99,
   "id": "9c4b8ef7",
   "metadata": {},
   "outputs": [
    {
     "data": {
      "text/plain": [
       "<AxesSubplot:xlabel='Predicted_SalePrice', ylabel='Density'>"
      ]
     },
     "execution_count": 99,
     "metadata": {},
     "output_type": "execute_result"
    },
    {
     "data": {
      "image/png": "[encoded data removed]",
      "text/plain": [
       "<Figure size 432x288 with 1 Axes>"
      ]
     },
     "metadata": {
      "needs_background": "light"
     },
     "output_type": "display_data"
    }
   ],
   "source": [
    "import seaborn as sb\n",
    "sb.distplot(df['Predicted_SalePrice'])"
   ]
  },
  {
   "cell_type": "code",
   "execution_count": null,
   "id": "76f1c75a",
   "metadata": {},
   "outputs": [],
   "source": []
  }
 ],
 "metadata": {
  "kernelspec": {
   "display_name": "Python 3 (ipykernel)",
   "language": "python",
   "name": "python3"
  },
  "language_info": {
   "codemirror_mode": {
    "name": "ipython",
    "version": 3
   },
   "file_extension": ".py",
   "mimetype": "text/x-python",
   "name": "python",
   "nbconvert_exporter": "python",
   "pygments_lexer": "ipython3",
   "version": "3.9.7"
  }
 },
 "nbformat": 4,
 "nbformat_minor": 5
}
