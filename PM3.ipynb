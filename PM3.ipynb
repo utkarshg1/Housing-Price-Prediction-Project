{
 "cells": [
  {
   "cell_type": "markdown",
   "id": "a1bc096a",
   "metadata": {},
   "source": [
    "# Custom Definitions - Utkarsh Gaikwad"
   ]
  },
  {
   "cell_type": "code",
   "execution_count": 1,
   "id": "69647f1a",
   "metadata": {},
   "outputs": [],
   "source": [
    "def replacer(df):\n",
    "    for i in df.columns:\n",
    "        if df[i].dtypes == \"object\":\n",
    "            x = df[i].mode()[0]\n",
    "            df[i]=df[i].fillna(x)\n",
    "        else:\n",
    "            x = df[i].mean()\n",
    "            df[i] = df[i].fillna(x)\n",
    "    print('Missing Values replaced in DataFrame')\n",
    "    \n",
    "def catcon(df):\n",
    "    cat = []\n",
    "    con = []\n",
    "    for i in df.columns:\n",
    "        if df[i].dtypes==\"object\":\n",
    "            cat.append(i)\n",
    "        else:\n",
    "            con.append(i)\n",
    "    print('Categorical and Continuous variables appended')\n",
    "    return cat, con\n",
    "\n",
    "def ANOVA(df,cat,con):\n",
    "    from statsmodels.formula.api import ols\n",
    "    eqn = str(con) + \" ~ \" + str(cat)\n",
    "    model = ols(eqn,df).fit()\n",
    "    from statsmodels.stats.anova import anova_lm\n",
    "    Q = anova_lm(model)\n",
    "    return round(Q.iloc[0:1,4:5].values[0][0],5)            "
   ]
  },
  {
   "cell_type": "code",
   "execution_count": null,
   "id": "603d74cc",
   "metadata": {},
   "outputs": [],
   "source": []
  },
  {
   "cell_type": "code",
   "execution_count": null,
   "id": "03770169",
   "metadata": {},
   "outputs": [],
   "source": []
  }
 ],
 "metadata": {
  "kernelspec": {
   "display_name": "Python 3 (ipykernel)",
   "language": "python",
   "name": "python3"
  },
  "language_info": {
   "codemirror_mode": {
    "name": "ipython",
    "version": 3
   },
   "file_extension": ".py",
   "mimetype": "text/x-python",
   "name": "python",
   "nbconvert_exporter": "python",
   "pygments_lexer": "ipython3",
   "version": "3.9.7"
  }
 },
 "nbformat": 4,
 "nbformat_minor": 5
}
